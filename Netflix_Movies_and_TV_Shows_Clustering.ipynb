{
  "nbformat": 4,
  "nbformat_minor": 0,
  "metadata": {
    "colab": {
      "provenance": [],
      "collapsed_sections": [
        "vncDsAP0Gaoa",
        "FJNUwmbgGyua",
        "w6K7xa23Elo4",
        "yQaldy8SH6Dl",
        "mDgbUHAGgjLW",
        "O_i_v8NEhb9l",
        "HhfV-JJviCcP",
        "Y3lxredqlCYt",
        "3RnN4peoiCZX",
        "x71ZqKXriCWQ",
        "7hBIi_osiCS2",
        "JlHwYmJAmNHm",
        "35m5QtbWiB9F",
        "PoPl-ycgm1ru",
        "H0kj-8xxnORC",
        "nA9Y7ga8ng1Z",
        "PBTbrJXOngz2",
        "u3PMJOP6ngxN",
        "dauF4eBmngu3",
        "bKJF3rekwFvQ",
        "MSa1f5Uengrz",
        "GF8Ens_Soomf",
        "0wOQAZs5pc--",
        "K5QZ13OEpz2H",
        "lQ7QKXXCp7Bj",
        "448CDAPjqfQr",
        "KSlN3yHqYklG",
        "t6dVpIINYklI",
        "ijmpgYnKYklI",
        "-JiQyfWJYklI",
        "EM7whBJCYoAo",
        "fge-S5ZAYoAp",
        "85gYPyotYoAp",
        "RoGjAbkUYoAp",
        "4Of9eVA-YrdM",
        "iky9q4vBYrdO",
        "F6T5p64dYrdO",
        "y-Ehk30pYrdP",
        "bamQiAODYuh1",
        "QHF8YVU7Yuh3",
        "GwzvFGzlYuh3",
        "qYpmQ266Yuh3",
        "OH-pJp9IphqM",
        "bbFf2-_FphqN",
        "_ouA3fa0phqN",
        "Seke61FWphqN",
        "PIIx-8_IphqN",
        "t27r6nlMphqO",
        "r2jJGEOYphqO",
        "b0JNsNcRphqO",
        "BZR9WyysphqO",
        "jj7wYXLtphqO",
        "eZrbJ2SmphqO",
        "rFu4xreNphqO",
        "YJ55k-q6phqO",
        "gCFgpxoyphqP",
        "OVtJsKN_phqQ",
        "lssrdh5qphqQ",
        "U2RJ9gkRphqQ",
        "1M8mcRywphqQ",
        "tgIPom80phqQ",
        "JMzcOPDDphqR",
        "x-EpHcCOp1ci",
        "X_VqEhTip1ck",
        "8zGJKyg5p1ck",
        "PVzmfK_Ep1ck",
        "n3dbpmDWp1ck",
        "ylSl6qgtp1ck",
        "ZWILFDl5p1ck",
        "M7G43BXep1ck",
        "Ag9LCva-p1cl",
        "E6MkPsBcp1cl",
        "2cELzS2fp1cl",
        "3MPXvC8up1cl",
        "NC_X3p0fY2L0",
        "UV0SzAkaZNRQ",
        "YPEH6qLeZNRQ",
        "q29F0dvdveiT",
        "EXh0U9oCveiU",
        "22aHeOlLveiV",
        "g-ATYxFrGrvw",
        "Yfr_Vlr8HBkt",
        "8yEUt7NnHlrM",
        "tEA2Xm5dHt1r",
        "I79__PHVH19G",
        "Ou-I18pAyIpj",
        "fF3858GYyt-u",
        "4_0_7-oCpUZd",
        "hwyV_J3ipUZe",
        "3yB-zSqbpUZe",
        "dEUvejAfpUZe",
        "Fd15vwWVpUZf",
        "bn_IUdTipZyH",
        "49K5P_iCpZyH",
        "Nff-vKELpZyI",
        "kLW572S8pZyI",
        "dWbDXHzopZyI",
        "yLjJCtPM0KBk",
        "xiyOF9F70UgQ",
        "7wuGOrhz0itI",
        "id1riN9m0vUs",
        "578E2V7j08f6",
        "89xtkJwZ18nB",
        "67NQN5KX2AMe",
        "Iwf50b-R2tYG",
        "GMQiZwjn3iu7",
        "WVIkgGqN3qsr",
        "XkPnILGE3zoT",
        "Hlsf0x5436Go",
        "mT9DMSJo4nBL",
        "c49ITxTc407N",
        "OeJFEK0N496M",
        "9ExmJH0g5HBk",
        "cJNqERVU536h",
        "k5UmGsbsOxih",
        "T0VqWOYE6DLQ",
        "qBMux9mC6MCf",
        "-oLEiFgy-5Pf",
        "C74aWNz2AliB",
        "2DejudWSA-a0",
        "pEMng2IbBLp7",
        "rAdphbQ9Bhjc",
        "TNVZ9zx19K6k",
        "nqoHp30x9hH9",
        "rMDnDkt2B6du",
        "yiiVWRdJDDil",
        "1UUpS68QDMuG",
        "kexQrXU-DjzY",
        "T5CmagL3EC8N",
        "BhH2vgX9EjGr",
        "qjKvONjwE8ra",
        "P1XJ9OREExlT",
        "VFOzZv6IFROw",
        "TIqpNgepFxVj",
        "VfCC591jGiD4",
        "OB4l2ZhMeS1U",
        "ArJBuiUVfxKd",
        "4qY1EAkEfxKe",
        "PiV4Ypx8fxKe",
        "TfvqoZmBfxKf",
        "dJ2tPlVmpsJ0",
        "JWYfwnehpsJ1",
        "-jK_YjpMpsJ2",
        "HAih1iBOpsJ2",
        "zVGeBEFhpsJ2",
        "bmKjuQ-FpsJ3",
        "Fze-IPXLpx6K",
        "7AN1z2sKpx6M",
        "9PIHJqyupx6M",
        "_-qAgymDpx6N",
        "Z-hykwinpx6N",
        "h_CCil-SKHpo",
        "cBFFvTBNJzUa",
        "HvGl1hHyA_VK",
        "EyNgTHvd2WFk",
        "KH5McJBi2d8v",
        "iW_Lq9qf2h6X",
        "-Kee-DAl2viO",
        "gCX9965dhzqZ",
        "gIfDvo9L0UH2"
      ],
      "include_colab_link": true
    },
    "kernelspec": {
      "name": "python3",
      "display_name": "Python 3"
    },
    "language_info": {
      "name": "python"
    }
  },
  "cells": [
    {
      "cell_type": "markdown",
      "metadata": {
        "id": "view-in-github",
        "colab_type": "text"
      },
      "source": [
        "<a href=\"https://colab.research.google.com/github/NIKHILNIGUDKAR/Netflix_Movies_and_TV_Shows_Clustering/blob/main/Netflix_Movies_and_TV_Shows_Clustering.ipynb\" target=\"_parent\"><img src=\"https://colab.research.google.com/assets/colab-badge.svg\" alt=\"Open In Colab\"/></a>"
      ]
    },
    {
      "cell_type": "markdown",
      "source": [
        "# **Project Name**    -Netflix Movies and TV Shows Clustering\n",
        "\n",
        "\n",
        "\n"
      ],
      "metadata": {
        "id": "vncDsAP0Gaoa"
      }
    },
    {
      "cell_type": "markdown",
      "source": [
        "##### **Project Type**    - Unsupervised\n",
        "##### **Contribution**    - individual\n",
        "##### **Team Member 1 -** - Nikhil Nagesh Nigudkar"
      ],
      "metadata": {
        "id": "beRrZCGUAJYm"
      }
    },
    {
      "cell_type": "markdown",
      "source": [
        "# **Project Summary -**"
      ],
      "metadata": {
        "id": "FJNUwmbgGyua"
      }
    },
    {
      "cell_type": "markdown",
      "source": [
        "This dataset consists of tv shows and movies available on Netflix as of 2019. The dataset is collected from Flixable which is a third-party Netflix search engine.\n",
        "\n",
        "In 2018, they released an interesting report which shows that the number of TV shows on Netflix has nearly tripled since 2010. The streaming service’s number of movies has decreased by more than 2,000 titles since 2010, while its number of TV shows has nearly tripled. It will be interesting to explore what all other insights can be obtained from the same dataset.\n",
        "\n",
        "innitially we start with understanding the data set, then we clean the data to make analysis ready.\n",
        "\n",
        "explore the data and understand the behaviour of the same.\n",
        "\n",
        "we then prepare the data for creating clusters by various parameters wherein we remove stop words, white spaces numbers etc so that we can get important words and based on that we shall form clusters.\n",
        "\n",
        "later I have used the silhoute method and kmeans elbow method to find optimal number of clusters and built recommender system by cosine similarity and recommended top 5 movies."
      ],
      "metadata": {
        "id": "F6v_1wHtG2nS"
      }
    },
    {
      "cell_type": "markdown",
      "source": [
        "![image.png](data:image/png;base64,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)"
      ],
      "metadata": {
        "id": "fdYjoYGRdNut"
      }
    },
    {
      "cell_type": "markdown",
      "source": [
        "# **GitHub Link -**"
      ],
      "metadata": {
        "id": "w6K7xa23Elo4"
      }
    },
    {
      "cell_type": "markdown",
      "source": [
        "https://github.com/NIKHILNIGUDKAR/Netflix_Movies_and_TV_Shows_Clustering"
      ],
      "metadata": {
        "id": "h1o69JH3Eqqn"
      }
    },
    {
      "cell_type": "markdown",
      "source": [
        "# **Problem Statement**\n"
      ],
      "metadata": {
        "id": "yQaldy8SH6Dl"
      }
    },
    {
      "cell_type": "markdown",
      "source": [
        "This dataset consists of tv shows and movies available on Netflix as of 2019. The dataset is collected from Flixable which is a third-party Netflix search engine.\n",
        "\n",
        "In 2018, they released an interesting report which shows that the number of TV shows on Netflix has nearly tripled since 2010. The streaming service’s number of movies has decreased by more than 2,000 titles since 2010, while its number of TV shows has nearly tripled. It will be interesting to explore what all other insights can be obtained from the same dataset."
      ],
      "metadata": {
        "id": "DpeJGUA3kjGy"
      }
    },
    {
      "cell_type": "markdown",
      "source": [
        "# **General Guidelines** : -  "
      ],
      "metadata": {
        "id": "mDgbUHAGgjLW"
      }
    },
    {
      "cell_type": "markdown",
      "source": [
        "1.   Well-structured, formatted, and commented code is required.\n",
        "2.   Exception Handling, Production Grade Code & Deployment Ready Code will be a plus. Those students will be awarded some additional credits.\n",
        "     \n",
        "     The additional credits will have advantages over other students during Star Student selection.\n",
        "       \n",
        "             [ Note: - Deployment Ready Code is defined as, the whole .ipynb notebook should be executable in one go\n",
        "                       without a single error logged. ]\n",
        "\n",
        "3.   Each and every logic should have proper comments.\n",
        "4. You may add as many number of charts you want. Make Sure for each and every chart the following format should be answered.\n",
        "        \n",
        "\n",
        "```\n",
        "# Chart visualization code\n",
        "```\n",
        "            \n",
        "\n",
        "*   Why did you pick the specific chart?\n",
        "*   What is/are the insight(s) found from the chart?\n",
        "* Will the gained insights help creating a positive business impact?\n",
        "Are there any insights that lead to negative growth? Justify with specific reason.\n",
        "\n",
        "5. You have to create at least 15 logical & meaningful charts having important insights.\n",
        "\n",
        "\n",
        "[ Hints : - Do the Vizualization in  a structured way while following \"UBM\" Rule.\n",
        "\n",
        "U - Univariate Analysis,\n",
        "\n",
        "B - Bivariate Analysis (Numerical - Categorical, Numerical - Numerical, Categorical - Categorical)\n",
        "\n",
        "M - Multivariate Analysis\n",
        " ]\n",
        "\n",
        "\n",
        "\n",
        "\n",
        "\n",
        "6. You may add more ml algorithms for model creation. Make sure for each and every algorithm, the following format should be answered.\n",
        "\n",
        "\n",
        "*   Explain the ML Model used and it's performance using Evaluation metric Score Chart.\n",
        "\n",
        "\n",
        "*   Cross- Validation & Hyperparameter Tuning\n",
        "\n",
        "*   Have you seen any improvement? Note down the improvement with updates Evaluation metric Score Chart.\n",
        "\n",
        "*   Explain each evaluation metric's indication towards business and the business impact pf the ML model used.\n",
        "\n",
        "\n",
        "\n",
        "\n",
        "\n",
        "\n",
        "\n",
        "\n",
        "\n",
        "\n",
        "\n",
        "\n",
        "\n",
        "\n",
        "\n",
        "\n",
        "\n",
        "\n"
      ],
      "metadata": {
        "id": "ZrxVaUj-hHfC"
      }
    },
    {
      "cell_type": "markdown",
      "source": [
        "# ***Let's Begin !***"
      ],
      "metadata": {
        "id": "O_i_v8NEhb9l"
      }
    },
    {
      "cell_type": "markdown",
      "source": [
        "## ***1. Know Your Data***"
      ],
      "metadata": {
        "id": "HhfV-JJviCcP"
      }
    },
    {
      "cell_type": "markdown",
      "source": [
        "### Import Libraries"
      ],
      "metadata": {
        "id": "Y3lxredqlCYt"
      }
    },
    {
      "cell_type": "code",
      "source": [
        "# Import Libraries\n",
        "# Importing Numpy & Pandas for data processing & data wrangling\n",
        "import numpy as np\n",
        "import pandas as pd\n",
        "\n",
        "# Importing  tools for visualization\n",
        "import matplotlib.pyplot as plt\n",
        "import seaborn as sns\n",
        "import missingno as msno\n",
        "\n",
        "# Importing libraries for hypothesis testing\n",
        "from scipy.stats import uniform\n",
        "from scipy.stats import norm\n",
        "from scipy.stats import chi2\n",
        "from scipy.stats import t\n",
        "from scipy.stats import f\n",
        "from scipy.stats import ttest_ind\n",
        "import scipy.stats as stats\n",
        "\n",
        "# Word Cloud library\n",
        "from wordcloud import WordCloud, STOPWORDS\n",
        "\n",
        "# library used for textual data prerocessing\n",
        "import string\n",
        "string.punctuation\n",
        "import nltk\n",
        "from nltk.corpus import stopwords\n",
        "nltk.download('stopwords')\n",
        "from nltk.stem.snowball import SnowballStemmer\n",
        "from scipy.stats import ttest_ind\n",
        "from sklearn.feature_extraction.text import CountVectorizer\n",
        "from sklearn.feature_extraction.text import TfidfVectorizer\n",
        "from sklearn.decomposition import PCA\n",
        "from statsmodels.stats.proportion import proportions_ztest\n",
        "\n",
        "# library used for Clusters impelementation\n",
        "from sklearn.cluster import KMeans\n",
        "from sklearn.metrics import silhouette_score\n",
        "from sklearn.cluster import AgglomerativeClustering\n",
        "import scipy.cluster.hierarchy as shc\n",
        "\n",
        "# library used for building recommandation system\n",
        "from sklearn.feature_extraction.text import TfidfVectorizer\n",
        "from sklearn.metrics.pairwise import *\n",
        "\n",
        "\n",
        "import scipy.cluster.hierarchy as sch\n",
        "\n",
        "import warnings\n",
        "warnings.filterwarnings('ignore')\n",
        "%matplotlib inline\n",
        "#setting font size throughout the notebook\n",
        "plt.rcParams.update({'font.size': 14})\n",
        "# plt.rcParams['font.weight'] = 'bold'\n",
        "plt.rcParams['axes.titleweight'] = 'bold'"
      ],
      "metadata": {
        "id": "M8Vqi-pPk-HR",
        "colab": {
          "base_uri": "https://localhost:8080/"
        },
        "outputId": "64d8618e-178c-4118-9e5b-1aafc0c0517f"
      },
      "execution_count": null,
      "outputs": [
        {
          "output_type": "stream",
          "name": "stderr",
          "text": [
            "[nltk_data] Downloading package stopwords to /root/nltk_data...\n",
            "[nltk_data]   Unzipping corpora/stopwords.zip.\n"
          ]
        }
      ]
    },
    {
      "cell_type": "markdown",
      "source": [
        "### Dataset Loading"
      ],
      "metadata": {
        "id": "3RnN4peoiCZX"
      }
    },
    {
      "cell_type": "code",
      "source": [
        "# Load Dataset\n",
        "# Mounting drive\n",
        "from google.colab import drive\n",
        "drive.mount('/content/drive')"
      ],
      "metadata": {
        "id": "4CkvbW_SlZ_R"
      },
      "execution_count": null,
      "outputs": []
    },
    {
      "cell_type": "code",
      "source": [
        "# reading data file\n",
        "dir_path = '/content/drive/MyDrive/Classroom/'\n",
        "file_name = 'NETFLIX MOVIES AND TV SHOWS CLUSTERING.csv'\n",
        "data_file_path = dir_path + file_name\n",
        "df = pd.read_csv(data_file_path)"
      ],
      "metadata": {
        "id": "3_IwE2NZoTsv"
      },
      "execution_count": null,
      "outputs": []
    },
    {
      "cell_type": "markdown",
      "source": [
        "### Dataset First View"
      ],
      "metadata": {
        "id": "x71ZqKXriCWQ"
      }
    },
    {
      "cell_type": "code",
      "source": [
        "# Dataset First Look\n",
        "df.head()"
      ],
      "metadata": {
        "id": "LWNFOSvLl09H"
      },
      "execution_count": null,
      "outputs": []
    },
    {
      "cell_type": "markdown",
      "source": [
        "### Dataset Rows & Columns count"
      ],
      "metadata": {
        "id": "7hBIi_osiCS2"
      }
    },
    {
      "cell_type": "code",
      "source": [
        "# Dataset Rows & Columns count\n",
        "df.shape"
      ],
      "metadata": {
        "id": "ufhJA89ho4P9"
      },
      "execution_count": null,
      "outputs": []
    },
    {
      "cell_type": "markdown",
      "source": [
        "**In the given dataset we have 7787 numbers of rows and 12 columns**"
      ],
      "metadata": {
        "id": "MQiy9IxLo6qv"
      }
    },
    {
      "cell_type": "markdown",
      "source": [
        "### Dataset Information"
      ],
      "metadata": {
        "id": "JlHwYmJAmNHm"
      }
    },
    {
      "cell_type": "code",
      "source": [
        "# Dataset Info\n",
        "df.info()"
      ],
      "metadata": {
        "id": "e9hRXRi6meOf"
      },
      "execution_count": null,
      "outputs": []
    },
    {
      "cell_type": "markdown",
      "source": [
        "#### Duplicate Values"
      ],
      "metadata": {
        "id": "35m5QtbWiB9F"
      }
    },
    {
      "cell_type": "code",
      "source": [
        "# Dataset Duplicate Value Count\n",
        "duplicate = df.duplicated().sum()\n",
        "print(duplicate)"
      ],
      "metadata": {
        "id": "1sLdpKYkmox0"
      },
      "execution_count": null,
      "outputs": []
    },
    {
      "cell_type": "markdown",
      "source": [
        "**There are no duplicate records in the dataset.**"
      ],
      "metadata": {
        "id": "nAL7OmxcpTcl"
      }
    },
    {
      "cell_type": "markdown",
      "source": [
        "#### Missing Values/Null Values"
      ],
      "metadata": {
        "id": "PoPl-ycgm1ru"
      }
    },
    {
      "cell_type": "code",
      "source": [
        "# Missing Values/Null Values Count\n",
        "# Missing Values/Null Values Count\n",
        "missing_values = df.isna().sum()\n",
        "print(missing_values)\n",
        "print('-'*30)\n",
        "print('Missing values in percentage')\n",
        "print('-'*30)\n",
        "missing_percentages = (df.isna().mean() * 100).round(2)\n",
        "print(missing_percentages)"
      ],
      "metadata": {
        "id": "GgHWkxvamxVg"
      },
      "execution_count": null,
      "outputs": []
    },
    {
      "cell_type": "code",
      "source": [
        "# Visualizing the missing values\n",
        "my_palette = sns.color_palette('Reds', 1)\n",
        "msno.bar(df,color = 'Red')\n",
        "# msno.heatmap(df, cmap=my_palette)\n",
        "plt.title('Visualizing the missing values')"
      ],
      "metadata": {
        "id": "3q5wnI3om9sJ"
      },
      "execution_count": null,
      "outputs": []
    },
    {
      "cell_type": "markdown",
      "source": [
        "### What did you know about your dataset?"
      ],
      "metadata": {
        "id": "H0kj-8xxnORC"
      }
    },
    {
      "cell_type": "markdown",
      "source": [
        "1. show_id: Unique Id number for all the listed rows\n",
        "\n",
        "2. type: denotes type of show namely TV Show or Movie\n",
        "\n",
        "3. title: title of the movie\n",
        "\n",
        "4. director: Name of director/directors\n",
        "\n",
        "5. cast: lists the cast of the movie\n",
        "\n",
        "6. country: country of the production house\n",
        "\n",
        "7. date_added: the date the show was added\n",
        "\n",
        "8. release_year: year of the release of the show\n",
        "\n",
        "9. rating: show ratings\n",
        "\n",
        "10. duration: duration of the show\n",
        "\n",
        "11. listed_in: the genre of the show\n",
        "\n",
        "12. description: summary/ description of the movie\n"
      ],
      "metadata": {
        "id": "gfoNAAC-nUe_"
      }
    },
    {
      "cell_type": "markdown",
      "source": [
        "## ***2. Understanding Your Variables***"
      ],
      "metadata": {
        "id": "nA9Y7ga8ng1Z"
      }
    },
    {
      "cell_type": "code",
      "source": [
        "# Dataset Columns\n",
        "columns= df.columns\n",
        "print(columns)"
      ],
      "metadata": {
        "id": "j7xfkqrt5Ag5"
      },
      "execution_count": null,
      "outputs": []
    },
    {
      "cell_type": "code",
      "source": [
        "# Dataset Describe\n",
        "df.describe(include='all')"
      ],
      "metadata": {
        "id": "DnOaZdaE5Q5t"
      },
      "execution_count": null,
      "outputs": []
    },
    {
      "cell_type": "markdown",
      "source": [
        "### Variables Description"
      ],
      "metadata": {
        "id": "PBTbrJXOngz2"
      }
    },
    {
      "cell_type": "markdown",
      "source": [
        "*show_id:*  Unique Id number for all the listed rows\n",
        "\n",
        "*type:* denotes type of show namely TV Show or Movie\n",
        "\n",
        "*title:* title of the movie\n",
        "\n",
        "*director:* Name of director/directors\n",
        "\n",
        "*cast:* lists the cast of the movie\n",
        "\n",
        "*country:* country of the production house\n",
        "\n",
        "*date_added:* the date the show was added\n",
        "\n",
        "*release_year:* year of the release of the show\n",
        "\n",
        "*rating:* show ratings\n",
        "\n",
        "*duration:* duration of the show\n",
        "\n",
        "*listed_in:* the genre of the show\n",
        "\n",
        "*description:* summary/ description of the movie"
      ],
      "metadata": {
        "id": "aJV4KIxSnxay"
      }
    },
    {
      "cell_type": "markdown",
      "source": [
        "### Check Unique Values for each variable."
      ],
      "metadata": {
        "id": "u3PMJOP6ngxN"
      }
    },
    {
      "cell_type": "code",
      "source": [
        "# Check Unique Values for each variable.\n",
        "for column in df.columns:\n",
        "  res = len(df[column].unique())\n",
        "  print(f'The number of unique variables in {column} column are: {res}')\n",
        "  if res<=15:\n",
        "    x = df[column].unique()\n",
        "    print(f'printing unique values of {column}')\n",
        "    print('the values are: ', x )\n",
        "    print('--'*45)"
      ],
      "metadata": {
        "id": "zms12Yq5n-jE"
      },
      "execution_count": null,
      "outputs": []
    },
    {
      "cell_type": "markdown",
      "source": [
        "## 3. ***Data Wrangling***"
      ],
      "metadata": {
        "id": "dauF4eBmngu3"
      }
    },
    {
      "cell_type": "markdown",
      "source": [
        "### Data Wrangling Code"
      ],
      "metadata": {
        "id": "bKJF3rekwFvQ"
      }
    },
    {
      "cell_type": "code",
      "source": [
        "# Write your code to make your dataset analysis ready.\n",
        "# filling cast value as not available\n",
        "df['cast'] = df['cast'].fillna(value='Not available')\n",
        "\n",
        "# filling contry null values as not known, the same can be replaced by mode of the country using the below commented code\n",
        "# Note: only one line should be selected to run this\n",
        "df['country'] = df['country'].fillna(value='Not Known')\n",
        "# df['country'] = df['country'].fillna(value=df['country'].mode())\n",
        "\n",
        "# since date_added and rating have low % share that is 0.13 and 0.09 we are dropping the same\n",
        "df = df.dropna(subset=['date_added','rating'])\n",
        "# since too many missing values in director column, we are dropping the same\n",
        "df = df.drop(['director'],axis=1)"
      ],
      "metadata": {
        "id": "wk-9a2fpoLcV"
      },
      "execution_count": null,
      "outputs": []
    },
    {
      "cell_type": "code",
      "source": [
        "df.isna().sum()"
      ],
      "metadata": {
        "id": "PDrRhL_fvHwH"
      },
      "execution_count": null,
      "outputs": []
    },
    {
      "cell_type": "markdown",
      "source": [
        "### What all manipulations have you done and insights you found?"
      ],
      "metadata": {
        "id": "MSa1f5Uengrz"
      }
    },
    {
      "cell_type": "markdown",
      "source": [
        "To make the data analysis ready we have done the following:\n",
        "\n",
        "* Filled missing values of cast with Not available.\n",
        "* Filled missing values of cast with Not Known.\n",
        "* Dropped rows of date_added missing values.\n",
        "* Dropped rows of ratings missing values.\n",
        "* Dropped the entire column of director as it had 30% of the data."
      ],
      "metadata": {
        "id": "LbyXE7I1olp8"
      }
    },
    {
      "cell_type": "markdown",
      "source": [
        "## ***4. Data Vizualization, Storytelling & Experimenting with charts : Understand the relationships between variables***"
      ],
      "metadata": {
        "id": "GF8Ens_Soomf"
      }
    },
    {
      "cell_type": "markdown",
      "source": [
        "#### Chart - 1"
      ],
      "metadata": {
        "id": "0wOQAZs5pc--"
      }
    },
    {
      "cell_type": "markdown",
      "source": [
        "**Pie Chart-Movies vs TV shows**"
      ],
      "metadata": {
        "id": "3LhPbC7nva0q"
      }
    },
    {
      "cell_type": "code",
      "source": [
        "# Chart - 1 visualization code\n",
        "spread = df['type'].value_counts()\n",
        "plt.rcParams['figure.figsize'] = (5,5)\n",
        "\n",
        "# pictdistance 0.6 is set to display the value inside the chart, if set more than 1, it'll display outside the chart.\n",
        "spread.plot(kind = 'pie', autopct='%1.2f%%', pctdistance=0.6)\n",
        "\n",
        "#setting colum chart title\n",
        "plt.title(f'Movie vs TV Show share')\n",
        "plt.show()"
      ],
      "metadata": {
        "id": "7v_ESjsspbW7"
      },
      "execution_count": null,
      "outputs": []
    },
    {
      "cell_type": "markdown",
      "source": [
        "##### 1. Why did you pick the specific chart?"
      ],
      "metadata": {
        "id": "K5QZ13OEpz2H"
      }
    },
    {
      "cell_type": "markdown",
      "source": [
        "To check what is percentage of Tv shows and Movies and used Pie chart because pie chart are easy to understand ."
      ],
      "metadata": {
        "id": "XESiWehPqBRc"
      }
    },
    {
      "cell_type": "markdown",
      "source": [
        "##### 2. What is/are the insight(s) found from the chart?"
      ],
      "metadata": {
        "id": "lQ7QKXXCp7Bj"
      }
    },
    {
      "cell_type": "markdown",
      "source": [
        "From this chart we get to know that 69.14% data is of movies while 30.86% are of TV shows.\n",
        "\n"
      ],
      "metadata": {
        "id": "C_j1G7yiqdRP"
      }
    },
    {
      "cell_type": "markdown",
      "source": [
        "##### 3. Will the gained insights help creating a positive business impact?\n",
        "Are there any insights that lead to negative growth? Justify with specific reason."
      ],
      "metadata": {
        "id": "448CDAPjqfQr"
      }
    },
    {
      "cell_type": "markdown",
      "source": [
        "The insights show us that most of the data is of movies\n"
      ],
      "metadata": {
        "id": "3cspy4FjqxJW"
      }
    },
    {
      "cell_type": "markdown",
      "source": [
        "#### Chart - 2"
      ],
      "metadata": {
        "id": "KSlN3yHqYklG"
      }
    },
    {
      "cell_type": "markdown",
      "source": [
        "**Count Plot of Ratings**"
      ],
      "metadata": {
        "id": "kjrjIlynwXoh"
      }
    },
    {
      "cell_type": "code",
      "source": [
        "# Chart - 2 visualization code\n",
        "plt.figure(figsize=(20, 5))\n",
        "sns.countplot(x='rating', data=df)\n",
        "\n",
        "# setting chart title\n",
        "plt.title('Counts of various ratings')\n",
        "plt.xticks(rotation = 90)\n",
        "\n",
        "# display chart\n",
        "plt.show()\n",
        "\n",
        "# printing the counts for reference\n",
        "print(df.rating.value_counts())"
      ],
      "metadata": {
        "id": "R4YgtaqtYklH"
      },
      "execution_count": null,
      "outputs": []
    },
    {
      "cell_type": "markdown",
      "source": [
        "##### 1. Why did you pick the specific chart?"
      ],
      "metadata": {
        "id": "t6dVpIINYklI"
      }
    },
    {
      "cell_type": "markdown",
      "source": [
        "Count Plots gives  well suited for finding the counts and plotting the count values."
      ],
      "metadata": {
        "id": "5aaW0BYyYklI"
      }
    },
    {
      "cell_type": "markdown",
      "source": [
        "##### 2. What is/are the insight(s) found from the chart?"
      ],
      "metadata": {
        "id": "ijmpgYnKYklI"
      }
    },
    {
      "cell_type": "markdown",
      "source": [
        "It is found that most of the ratings are given by TV-MA(2863) followed by TV-14(1931) the least ratings are by NC-17(3).while other are in the middle range.\n",
        "\n"
      ],
      "metadata": {
        "id": "PSx9atu2YklI"
      }
    },
    {
      "cell_type": "markdown",
      "source": [
        "##### 3. Will the gained insights help creating a positive business impact?\n",
        "Are there any insights that lead to negative growth? Justify with specific reason."
      ],
      "metadata": {
        "id": "-JiQyfWJYklI"
      }
    },
    {
      "cell_type": "markdown",
      "source": [
        "The Gained insites are good to understand the ratings system on the dataframe."
      ],
      "metadata": {
        "id": "BcBbebzrYklV"
      }
    },
    {
      "cell_type": "markdown",
      "source": [
        "#### Chart - 3"
      ],
      "metadata": {
        "id": "EM7whBJCYoAo"
      }
    },
    {
      "cell_type": "markdown",
      "source": [
        "**Counts of movies with respect to various years**"
      ],
      "metadata": {
        "id": "pGW3Bn1nU8mn"
      }
    },
    {
      "cell_type": "code",
      "source": [
        "# Chart - 3 visualization code\n",
        "# creating temp dataframe\n",
        "temp_data_df = df.groupby(['release_year'])['show_id'].count()\n",
        "plt.rcParams['figure.figsize'] = (20, 5)\n",
        "\n",
        "# plotting the temp df\n",
        "temp_data_df.plot.line()\n",
        "# setting chart title\n",
        "plt.title('Counts of movies with respect to various years')\n",
        "plt.ylabel('Count')\n",
        "plt.xlabel('Release Year')\n",
        "# display chart\n",
        "plt.show()\n",
        "\n",
        "# deleting the temporary dataframe for optimization of memory\n",
        "del temp_data_df"
      ],
      "metadata": {
        "id": "t6GMdE67YoAp"
      },
      "execution_count": null,
      "outputs": []
    },
    {
      "cell_type": "markdown",
      "source": [
        "##### 1. Why did you pick the specific chart?"
      ],
      "metadata": {
        "id": "fge-S5ZAYoAp"
      }
    },
    {
      "cell_type": "markdown",
      "source": [
        "A line chart is better to understand the treands with respect to time"
      ],
      "metadata": {
        "id": "5dBItgRVYoAp"
      }
    },
    {
      "cell_type": "markdown",
      "source": [
        "##### 2. What is/are the insight(s) found from the chart?"
      ],
      "metadata": {
        "id": "85gYPyotYoAp"
      }
    },
    {
      "cell_type": "markdown",
      "source": [
        "It is observed that most of the movies on netflix are of the reliese date from 2010 to 2018."
      ],
      "metadata": {
        "id": "4jstXR6OYoAp"
      }
    },
    {
      "cell_type": "markdown",
      "source": [
        "##### 3. Will the gained insights help creating a positive business impact?\n",
        "Are there any insights that lead to negative growth? Justify with specific reason."
      ],
      "metadata": {
        "id": "RoGjAbkUYoAp"
      }
    },
    {
      "cell_type": "markdown",
      "source": [
        "This helps us to understand that most of the movies released are new or old, its found that most are from recently released."
      ],
      "metadata": {
        "id": "zfJ8IqMcYoAp"
      }
    },
    {
      "cell_type": "markdown",
      "source": [
        "#### Chart - 4"
      ],
      "metadata": {
        "id": "4Of9eVA-YrdM"
      }
    },
    {
      "cell_type": "markdown",
      "source": [
        "**Top 10 countries with maximum movies**"
      ],
      "metadata": {
        "id": "6k_sRwqQVN1F"
      }
    },
    {
      "cell_type": "code",
      "source": [
        "# Chart - 4 visualization code\n",
        "plt.figure(figsize=(20, 5))\n",
        "df['country'].value_counts().head(10).sort_values(ascending = True).plot(kind='barh')\n",
        "# sns.countplot(x='country', data=df)\n",
        "\n",
        "# setting chart title\n",
        "plt.title('Counts of production country')\n",
        "# plt.xticks(rotation = 90)\n",
        "plt.ylabel('year')\n",
        "plt.xlabel('count')\n",
        "# display chart\n",
        "plt.show()\n",
        "\n",
        "# printing the counts for reference\n",
        "print(df.country.value_counts().head(10))"
      ],
      "metadata": {
        "id": "irlUoxc8YrdO"
      },
      "execution_count": null,
      "outputs": []
    },
    {
      "cell_type": "markdown",
      "source": [
        "##### 1. Why did you pick the specific chart?"
      ],
      "metadata": {
        "id": "iky9q4vBYrdO"
      }
    },
    {
      "cell_type": "markdown",
      "source": [
        "Horizontal bar is good to visualize the data and interpret the data"
      ],
      "metadata": {
        "id": "aJRCwT6DYrdO"
      }
    },
    {
      "cell_type": "markdown",
      "source": [
        "##### 2. What is/are the insight(s) found from the chart?"
      ],
      "metadata": {
        "id": "F6T5p64dYrdO"
      }
    },
    {
      "cell_type": "markdown",
      "source": [
        "The content belongs to United states alone is 2546, followed by India\n",
        "\n"
      ],
      "metadata": {
        "id": "Xx8WAJvtYrdO"
      }
    },
    {
      "cell_type": "markdown",
      "source": [
        "##### 3. Will the gained insights help creating a positive business impact?\n",
        "Are there any insights that lead to negative growth? Justify with specific reason."
      ],
      "metadata": {
        "id": "y-Ehk30pYrdP"
      }
    },
    {
      "cell_type": "markdown",
      "source": [
        "It helps us understand that most of the data we have belongs to United states followed by India"
      ],
      "metadata": {
        "id": "jLNxxz7MYrdP"
      }
    },
    {
      "cell_type": "markdown",
      "source": [
        "#### Chart - 5"
      ],
      "metadata": {
        "id": "bamQiAODYuh1"
      }
    },
    {
      "cell_type": "code",
      "source": [
        "# seperating and creating 2 dataframe based on type\n",
        "tv_shows_df = df[df['type']=='TV Show']\n",
        "movies_df = df[df['type']=='Movie']"
      ],
      "metadata": {
        "id": "Ugy0ezBcVwbk"
      },
      "execution_count": null,
      "outputs": []
    },
    {
      "cell_type": "code",
      "source": [
        "# Chart - 5 visualization code\n",
        "\n",
        "movie_ratings = movies_df.groupby(['rating'])['show_id'].count().reset_index(name='count')\n",
        "movie_ratings = movie_ratings.sort_values('count', ascending=False).reset_index()\n",
        "# top10_movies = movies_df['listed_in'].value_counts().reset_index(name='count').head(10)\n",
        "# print(top10_movies)\n",
        "sns.barplot(x='rating',y='count',data=movie_ratings)\n",
        "\n",
        "# setting chart title\n",
        "plt.title('Counts of movies with respect to various type of ratings')\n",
        "plt.ylabel('Count')\n",
        "plt.xlabel('Ratings')\n",
        "# display chart\n",
        "plt.show()\n",
        "# print(movie_ratings)\n",
        "# deleting the movie_ratings dataframe for optimization of memory\n",
        "del movie_ratings"
      ],
      "metadata": {
        "id": "TIJwrbroYuh3"
      },
      "execution_count": null,
      "outputs": []
    },
    {
      "cell_type": "markdown",
      "source": [
        "##### 1. Why did you pick the specific chart?"
      ],
      "metadata": {
        "id": "QHF8YVU7Yuh3"
      }
    },
    {
      "cell_type": "markdown",
      "source": [
        "Bar plot is good to visualize and understand the data in this case.\n",
        "\n"
      ],
      "metadata": {
        "id": "dcxuIMRPYuh3"
      }
    },
    {
      "cell_type": "markdown",
      "source": [
        "##### 2. What is/are the insight(s) found from the chart?"
      ],
      "metadata": {
        "id": "GwzvFGzlYuh3"
      }
    },
    {
      "cell_type": "markdown",
      "source": [
        "It is found that TV-MA has more ratings that is 1845 followed by TV-14 1272 and NC-17 are least with 3 and UR with 5"
      ],
      "metadata": {
        "id": "uyqkiB8YYuh3"
      }
    },
    {
      "cell_type": "markdown",
      "source": [
        "##### 3. Will the gained insights help creating a positive business impact?\n",
        "Are there any insights that lead to negative growth? Justify with specific reason."
      ],
      "metadata": {
        "id": "qYpmQ266Yuh3"
      }
    },
    {
      "cell_type": "markdown",
      "source": [
        "The chart is just to understand the trends of ratings for movies\n"
      ],
      "metadata": {
        "id": "_WtzZ_hCYuh4"
      }
    },
    {
      "cell_type": "markdown",
      "source": [
        "#### Chart - 6"
      ],
      "metadata": {
        "id": "OH-pJp9IphqM"
      }
    },
    {
      "cell_type": "markdown",
      "source": [
        "**Counts of TV Shows with respect to various type of ratings**"
      ],
      "metadata": {
        "id": "cyDRtkwJWCYO"
      }
    },
    {
      "cell_type": "code",
      "source": [
        "# Chart - 6 visualization code\n",
        "\n",
        "# Chart - 6 visualization code\n",
        "tv_shows_ratings = tv_shows_df.groupby(['rating'])['show_id'].count().reset_index(name='count')\n",
        "tv_shows_ratings = tv_shows_ratings.sort_values('count', ascending=False).reset_index()\n",
        "\n",
        "sns.pointplot(x='rating',y='count',data=tv_shows_ratings)\n",
        "sns.boxplot(x='rating',y='count',data=tv_shows_ratings)\n",
        "\n",
        "# setting chart title\n",
        "plt.title('Counts of TV Shows with respect to various type of ratings')\n",
        "plt.ylabel('Count')\n",
        "plt.xlabel('Ratings')\n",
        "# display chart\n",
        "plt.show()\n",
        "# print(tv_shows_ratings)\n",
        "\n",
        "# deleting the movie_ratings dataframe for optimization of memory\n",
        "del tv_shows_ratings"
      ],
      "metadata": {
        "id": "kuRf4wtuphqN"
      },
      "execution_count": null,
      "outputs": []
    },
    {
      "cell_type": "markdown",
      "source": [
        "##### 1. Why did you pick the specific chart?"
      ],
      "metadata": {
        "id": "bbFf2-_FphqN"
      }
    },
    {
      "cell_type": "markdown",
      "source": [
        "A scatter plot is best to undersatnd how the data is scattered in the given trends"
      ],
      "metadata": {
        "id": "loh7H2nzphqN"
      }
    },
    {
      "cell_type": "markdown",
      "source": [
        "##### 2. What is/are the insight(s) found from the chart?"
      ],
      "metadata": {
        "id": "_ouA3fa0phqN"
      }
    },
    {
      "cell_type": "markdown",
      "source": [
        "It is found that TV-MA rating is max that is 1016 for the TV Shows followed by 656 for TV-14 the least ratings are by TV-Y7-FV that is 1 and R is 2"
      ],
      "metadata": {
        "id": "VECbqPI7phqN"
      }
    },
    {
      "cell_type": "markdown",
      "source": [
        "##### 3. Will the gained insights help creating a positive business impact?\n",
        "Are there any insights that lead to negative growth? Justify with specific reason."
      ],
      "metadata": {
        "id": "Seke61FWphqN"
      }
    },
    {
      "cell_type": "markdown",
      "source": [
        "The chart is just to understand the trends of ratings for TV shows"
      ],
      "metadata": {
        "id": "DW4_bGpfphqN"
      }
    },
    {
      "cell_type": "markdown",
      "source": [
        "#### Chart - 7"
      ],
      "metadata": {
        "id": "PIIx-8_IphqN"
      }
    },
    {
      "cell_type": "markdown",
      "source": [
        "**Top 10 TV Shows Genre**"
      ],
      "metadata": {
        "id": "P_x9utjxWVV7"
      }
    },
    {
      "cell_type": "code",
      "source": [
        "# Chart - 7 visualization code\n",
        "#getting counts of different TV shows in listed in\n",
        "top10_TV_Shows = tv_shows_df['listed_in'].value_counts()\n",
        "# sorting based on counts\n",
        "top10_TV_Shows = top10_TV_Shows.sort_values(ascending=True)\n",
        "# getting to 10 of the dataframe from bottom\n",
        "top10_TV_Shows = top10_TV_Shows.tail(10)\n",
        "\n",
        "# plotting\n",
        "top10_TV_Shows.plot(kind='barh')\n",
        "# setting chart title\n",
        "plt.title('Top 10 TV Shows Genre')\n",
        "plt.ylabel('Listed In')\n",
        "plt.xlabel('count')\n",
        "# display chart\n",
        "plt.show()\n",
        "\n",
        "# print(top10_TV_Shows)\n",
        "# deleting the movie_ratings dataframe for optimization of memory\n",
        "del top10_TV_Shows"
      ],
      "metadata": {
        "id": "lqAIGUfyphqO"
      },
      "execution_count": null,
      "outputs": []
    },
    {
      "cell_type": "markdown",
      "source": [
        "##### 1. Why did you pick the specific chart?"
      ],
      "metadata": {
        "id": "t27r6nlMphqO"
      }
    },
    {
      "cell_type": "markdown",
      "source": [
        "barh is good to visualize the given scenario"
      ],
      "metadata": {
        "id": "iv6ro40sphqO"
      }
    },
    {
      "cell_type": "markdown",
      "source": [
        "##### 2. What is/are the insight(s) found from the chart?"
      ],
      "metadata": {
        "id": "r2jJGEOYphqO"
      }
    },
    {
      "cell_type": "markdown",
      "source": [
        "Kids' TV has max count as 204 followed by International TV Shows, TV Dramas with 111."
      ],
      "metadata": {
        "id": "Po6ZPi4hphqO"
      }
    },
    {
      "cell_type": "markdown",
      "source": [
        "##### 3. Will the gained insights help creating a positive business impact?\n",
        "Are there any insights that lead to negative growth? Justify with specific reason."
      ],
      "metadata": {
        "id": "b0JNsNcRphqO"
      }
    },
    {
      "cell_type": "markdown",
      "source": [
        "The chart is just to understand the trends of TV shows Genre\n",
        "\n"
      ],
      "metadata": {
        "id": "xvSq8iUTphqO"
      }
    },
    {
      "cell_type": "markdown",
      "source": [
        "#### Chart - 8"
      ],
      "metadata": {
        "id": "BZR9WyysphqO"
      }
    },
    {
      "cell_type": "markdown",
      "source": [
        "**Top 10 Movies Genre**\n",
        "\n"
      ],
      "metadata": {
        "id": "irwyZiBNW178"
      }
    },
    {
      "cell_type": "code",
      "source": [
        "# Chart - 8 visualization code\n",
        "# getting counts of different movies in listed in\n",
        "top10_movies = movies_df['listed_in'].value_counts()\n",
        "# sorting based on counts\n",
        "top10_movies = top10_movies.sort_values(ascending=True)\n",
        "# getting to 10 of the dataframe from bottom\n",
        "top10_movies = top10_movies.tail(10)\n",
        "\n",
        "# plotting\n",
        "top10_movies.plot(kind='barh')\n",
        "# setting chart title\n",
        "plt.title('Top 10 Movies Genre')\n",
        "plt.ylabel('Listed In')\n",
        "plt.xlabel('count')\n",
        "# display chart\n",
        "plt.show()\n",
        "\n",
        "print(top10_movies)\n",
        "# deleting the movie_ratings dataframe for optimization of memory\n",
        "del top10_movies"
      ],
      "metadata": {
        "id": "TdPTWpAVphqO"
      },
      "execution_count": null,
      "outputs": []
    },
    {
      "cell_type": "markdown",
      "source": [
        "##### 1. Why did you pick the specific chart?"
      ],
      "metadata": {
        "id": "jj7wYXLtphqO"
      }
    },
    {
      "cell_type": "markdown",
      "source": [
        "barh is good to visualize the given scenario\n"
      ],
      "metadata": {
        "id": "Ob8u6rCTphqO"
      }
    },
    {
      "cell_type": "markdown",
      "source": [
        "##### 2. What is/are the insight(s) found from the chart?"
      ],
      "metadata": {
        "id": "eZrbJ2SmphqO"
      }
    },
    {
      "cell_type": "markdown",
      "source": [
        "It is found that there are 334 documentaries and 321 Standup comedy"
      ],
      "metadata": {
        "id": "mZtgC_hjphqO"
      }
    },
    {
      "cell_type": "markdown",
      "source": [
        "##### 3. Will the gained insights help creating a positive business impact?\n",
        "Are there any insights that lead to negative growth? Justify with specific reason."
      ],
      "metadata": {
        "id": "rFu4xreNphqO"
      }
    },
    {
      "cell_type": "markdown",
      "source": [
        "The chart is just to understand the trendsof movies Genre\n",
        "\n"
      ],
      "metadata": {
        "id": "ey_0qi68phqO"
      }
    },
    {
      "cell_type": "markdown",
      "source": [
        "#### Chart - 9"
      ],
      "metadata": {
        "id": "YJ55k-q6phqO"
      }
    },
    {
      "cell_type": "code",
      "source": [
        "# Chart - 9 visualization code\n",
        "sns.histplot(tv_shows_df['duration'].str.extract('(\\d+)').astype(int), kde=True, color='red')\n",
        "# setting chart title\n",
        "plt.title('Hist plot for TV Show duration')\n",
        "plt.ylabel('count')\n",
        "plt.xlabel('Duration')\n",
        "# display chart\n",
        "plt.show()"
      ],
      "metadata": {
        "id": "B2aS4O1ophqO"
      },
      "execution_count": null,
      "outputs": []
    },
    {
      "cell_type": "markdown",
      "source": [
        "##### 1. Why did you pick the specific chart?"
      ],
      "metadata": {
        "id": "gCFgpxoyphqP"
      }
    },
    {
      "cell_type": "markdown",
      "source": [
        "Hist plot shows histogram of the counts of various values\n",
        "\n"
      ],
      "metadata": {
        "id": "TVxDimi2phqP"
      }
    },
    {
      "cell_type": "markdown",
      "source": [
        "##### 2. What is/are the insight(s) found from the chart?"
      ],
      "metadata": {
        "id": "OVtJsKN_phqQ"
      }
    },
    {
      "cell_type": "markdown",
      "source": [
        "The provided dataframe is not suitable to claculate the time duration for TV shows\n",
        "\n"
      ],
      "metadata": {
        "id": "ngGi97qjphqQ"
      }
    },
    {
      "cell_type": "markdown",
      "source": [
        "##### 3. Will the gained insights help creating a positive business impact?\n",
        "Are there any insights that lead to negative growth? Justify with specific reason."
      ],
      "metadata": {
        "id": "lssrdh5qphqQ"
      }
    },
    {
      "cell_type": "markdown",
      "source": [
        "The output CSV files must be improved\n",
        "\n"
      ],
      "metadata": {
        "id": "tBpY5ekJphqQ"
      }
    },
    {
      "cell_type": "markdown",
      "source": [
        "#### Chart - 10"
      ],
      "metadata": {
        "id": "U2RJ9gkRphqQ"
      }
    },
    {
      "cell_type": "code",
      "source": [
        "# Chart - 10 visualization code\n",
        "sns.countplot(x='release_year',hue='type', data=df)\n",
        "\n",
        "# setting chart title\n",
        "plt.title('Various types of shows released with respect to year')\n",
        "plt.xticks(rotation=90)\n",
        "plt.xlabel('Release Year')\n",
        "plt.ylabel('Count')\n",
        "\n",
        "# display chart\n",
        "plt.show()\n"
      ],
      "metadata": {
        "id": "GM7a4YP4phqQ"
      },
      "execution_count": null,
      "outputs": []
    },
    {
      "cell_type": "markdown",
      "source": [
        "##### 1. Why did you pick the specific chart?"
      ],
      "metadata": {
        "id": "1M8mcRywphqQ"
      }
    },
    {
      "cell_type": "markdown",
      "source": [
        "A seaborn count plot shows counts of TV Shows and Movies with respect to various years"
      ],
      "metadata": {
        "id": "8agQvks0phqQ"
      }
    },
    {
      "cell_type": "markdown",
      "source": [
        "##### 2. What is/are the insight(s) found from the chart?"
      ],
      "metadata": {
        "id": "tgIPom80phqQ"
      }
    },
    {
      "cell_type": "markdown",
      "source": [
        "The trends of TV shows increased over time\n",
        "\n",
        "the moves relased after 2010 started to list on netflix trends increased."
      ],
      "metadata": {
        "id": "Qp13pnNzphqQ"
      }
    },
    {
      "cell_type": "markdown",
      "source": [
        "##### 3. Will the gained insights help creating a positive business impact?\n",
        "Are there any insights that lead to negative growth? Justify with specific reason."
      ],
      "metadata": {
        "id": "JMzcOPDDphqR"
      }
    },
    {
      "cell_type": "markdown",
      "source": [
        "The trends of TV shows increased over time\n",
        "\n"
      ],
      "metadata": {
        "id": "R4Ka1PC2phqR"
      }
    },
    {
      "cell_type": "markdown",
      "source": [
        "#### Chart - 11"
      ],
      "metadata": {
        "id": "x-EpHcCOp1ci"
      }
    },
    {
      "cell_type": "code",
      "source": [
        "# Chart - 11 visualization code\n",
        "sns.histplot(movies_df['duration'].str.extract('(\\d+)').astype(int), kde=True, color='red')\n",
        "\n",
        "# setting chart title\n",
        "plt.title('Hist plot for movies duration')\n",
        "plt.ylabel('count')\n",
        "plt.xlabel('Duration')\n",
        "# display chart\n",
        "plt.show()"
      ],
      "metadata": {
        "id": "mAQTIvtqp1cj"
      },
      "execution_count": null,
      "outputs": []
    },
    {
      "cell_type": "markdown",
      "source": [
        "##### 1. Why did you pick the specific chart?"
      ],
      "metadata": {
        "id": "X_VqEhTip1ck"
      }
    },
    {
      "cell_type": "markdown",
      "source": [
        "Hist plot shows histogram of the counts of various values\n",
        "\n"
      ],
      "metadata": {
        "id": "-vsMzt_np1ck"
      }
    },
    {
      "cell_type": "markdown",
      "source": [
        "##### 2. What is/are the insight(s) found from the chart?"
      ],
      "metadata": {
        "id": "8zGJKyg5p1ck"
      }
    },
    {
      "cell_type": "markdown",
      "source": [
        "Most of the movies range in 90-95 mins\n",
        "\n"
      ],
      "metadata": {
        "id": "ZYdMsrqVp1ck"
      }
    },
    {
      "cell_type": "markdown",
      "source": [
        "##### 3. Will the gained insights help creating a positive business impact?\n",
        "Are there any insights that lead to negative growth? Justify with specific reason."
      ],
      "metadata": {
        "id": "PVzmfK_Ep1ck"
      }
    },
    {
      "cell_type": "markdown",
      "source": [
        "The plot is to understand what is avg time for movies\n",
        "\n"
      ],
      "metadata": {
        "id": "druuKYZpp1ck"
      }
    },
    {
      "cell_type": "markdown",
      "source": [
        "#### Chart - 12"
      ],
      "metadata": {
        "id": "n3dbpmDWp1ck"
      }
    },
    {
      "cell_type": "code",
      "source": [
        "# Chart - 12 visualization code"
      ],
      "metadata": {
        "id": "bwevp1tKp1ck"
      },
      "execution_count": null,
      "outputs": []
    },
    {
      "cell_type": "markdown",
      "source": [
        "##### 1. Why did you pick the specific chart?"
      ],
      "metadata": {
        "id": "ylSl6qgtp1ck"
      }
    },
    {
      "cell_type": "markdown",
      "source": [
        "Answer Here."
      ],
      "metadata": {
        "id": "m2xqNkiQp1ck"
      }
    },
    {
      "cell_type": "markdown",
      "source": [
        "##### 2. What is/are the insight(s) found from the chart?"
      ],
      "metadata": {
        "id": "ZWILFDl5p1ck"
      }
    },
    {
      "cell_type": "markdown",
      "source": [
        "Answer Here"
      ],
      "metadata": {
        "id": "x-lUsV2mp1ck"
      }
    },
    {
      "cell_type": "markdown",
      "source": [
        "##### 3. Will the gained insights help creating a positive business impact?\n",
        "Are there any insights that lead to negative growth? Justify with specific reason."
      ],
      "metadata": {
        "id": "M7G43BXep1ck"
      }
    },
    {
      "cell_type": "markdown",
      "source": [
        "Answer Here"
      ],
      "metadata": {
        "id": "5wwDJXsLp1cl"
      }
    },
    {
      "cell_type": "markdown",
      "source": [
        "#### Chart - 13"
      ],
      "metadata": {
        "id": "Ag9LCva-p1cl"
      }
    },
    {
      "cell_type": "code",
      "source": [
        "# Chart - 13 visualization code"
      ],
      "metadata": {
        "id": "EUfxeq9-p1cl"
      },
      "execution_count": null,
      "outputs": []
    },
    {
      "cell_type": "markdown",
      "source": [
        "##### 1. Why did you pick the specific chart?"
      ],
      "metadata": {
        "id": "E6MkPsBcp1cl"
      }
    },
    {
      "cell_type": "markdown",
      "source": [
        "Answer Here."
      ],
      "metadata": {
        "id": "V22bRsFWp1cl"
      }
    },
    {
      "cell_type": "markdown",
      "source": [
        "##### 2. What is/are the insight(s) found from the chart?"
      ],
      "metadata": {
        "id": "2cELzS2fp1cl"
      }
    },
    {
      "cell_type": "markdown",
      "source": [
        "Answer Here"
      ],
      "metadata": {
        "id": "ozQPc2_Ip1cl"
      }
    },
    {
      "cell_type": "markdown",
      "source": [
        "##### 3. Will the gained insights help creating a positive business impact?\n",
        "Are there any insights that lead to negative growth? Justify with specific reason."
      ],
      "metadata": {
        "id": "3MPXvC8up1cl"
      }
    },
    {
      "cell_type": "markdown",
      "source": [
        "Answer Here"
      ],
      "metadata": {
        "id": "GL8l1tdLp1cl"
      }
    },
    {
      "cell_type": "markdown",
      "source": [
        "#### Chart - 14 - Correlation Heatmap"
      ],
      "metadata": {
        "id": "NC_X3p0fY2L0"
      }
    },
    {
      "cell_type": "code",
      "source": [
        "# Correlation Heatmap visualization code\n",
        "corr_matrix = df.corr()\n",
        "plt.figure(figsize=(15,8))\n",
        "# Plot heatmap\n",
        "sns.heatmap(corr_matrix, annot=True, cmap='inferno')\n",
        "\n",
        "#setting labels to infer the plot\n",
        "plt.title('Correlation Matrix heatmap')\n",
        "plt.ylabel('Feature/Property')\n",
        "plt.xlabel('Feature/Property')"
      ],
      "metadata": {
        "id": "xyC9zolEZNRQ"
      },
      "execution_count": null,
      "outputs": []
    },
    {
      "cell_type": "markdown",
      "source": [
        "##### 1. Why did you pick the specific chart?"
      ],
      "metadata": {
        "id": "UV0SzAkaZNRQ"
      }
    },
    {
      "cell_type": "markdown",
      "source": [
        "The corelation chart shows the relation between the two specific feature\n",
        "\n"
      ],
      "metadata": {
        "id": "DVPuT8LYZNRQ"
      }
    },
    {
      "cell_type": "markdown",
      "source": [
        "##### 2. What is/are the insight(s) found from the chart?"
      ],
      "metadata": {
        "id": "YPEH6qLeZNRQ"
      }
    },
    {
      "cell_type": "markdown",
      "source": [
        "Since there is only one value in dataframe of int type, we are unable to visualize the Correlation Matrix heatmap"
      ],
      "metadata": {
        "id": "bfSqtnDqZNRR"
      }
    },
    {
      "cell_type": "markdown",
      "source": [
        "#### Chart - 15 - Pair Plot"
      ],
      "metadata": {
        "id": "q29F0dvdveiT"
      }
    },
    {
      "cell_type": "code",
      "source": [
        "# Pair Plot visualization code\n",
        "sns.pairplot(df, diag_kind=\"kde\", kind = 'reg')\n",
        "\n",
        "\n",
        "#setting labels to infer the plot\n",
        "plt.title('Pair Plot')\n",
        "plt.ylabel('Feature/Property')\n",
        "plt.xlabel('Feature/Property')\n",
        "plt.figure(figsize=(25, 30))  # Adjust dimensions as needed\n",
        "\n",
        "plt.show()"
      ],
      "metadata": {
        "id": "o58-TEIhveiU"
      },
      "execution_count": null,
      "outputs": []
    },
    {
      "cell_type": "markdown",
      "source": [
        "##### 1. Why did you pick the specific chart?"
      ],
      "metadata": {
        "id": "EXh0U9oCveiU"
      }
    },
    {
      "cell_type": "markdown",
      "source": [
        "Pair plots are used to show relationship between various variables\n",
        "\n",
        "Pair plots can also help us explore the distribution of variables in your dataset.\n",
        "\n"
      ],
      "metadata": {
        "id": "eMmPjTByveiU"
      }
    },
    {
      "cell_type": "markdown",
      "source": [
        "##### 2. What is/are the insight(s) found from the chart?"
      ],
      "metadata": {
        "id": "22aHeOlLveiV"
      }
    },
    {
      "cell_type": "markdown",
      "source": [
        "Since there is only one value in dataframe of int type, we are unable to visualize the pair plot\n"
      ],
      "metadata": {
        "id": "uPQ8RGwHveiV"
      }
    },
    {
      "cell_type": "markdown",
      "source": [
        "## ***5. Hypothesis Testing***"
      ],
      "metadata": {
        "id": "g-ATYxFrGrvw"
      }
    },
    {
      "cell_type": "markdown",
      "source": [
        "### Based on your chart experiments, define three hypothetical statements from the dataset. In the next three questions, perform hypothesis testing to obtain final conclusion about the statements through your code and statistical testing."
      ],
      "metadata": {
        "id": "Yfr_Vlr8HBkt"
      }
    },
    {
      "cell_type": "markdown",
      "source": [
        "Answer Here."
      ],
      "metadata": {
        "id": "-7MS06SUHkB-"
      }
    },
    {
      "cell_type": "markdown",
      "source": [
        "### Hypothetical Statement - 1"
      ],
      "metadata": {
        "id": "8yEUt7NnHlrM"
      }
    },
    {
      "cell_type": "markdown",
      "source": [
        "#### 1. State Your research hypothesis as a null hypothesis and alternate hypothesis."
      ],
      "metadata": {
        "id": "tEA2Xm5dHt1r"
      }
    },
    {
      "cell_type": "markdown",
      "source": [
        "Netflix has the highest number of content in the United States, followed by India. India has the highest number of movies on Netflix\n",
        "\n",
        "    * Null hypothesis H0: The average number of movies on Netflix in the United States is equal to the average number of movies on Netflix in India.\n",
        "\n",
        "    * Alternate hypothesis Ha: The average number of movies on Netflix in the United States is greater than the average number of movies on Netflix in India"
      ],
      "metadata": {
        "id": "HI9ZP0laH0D-"
      }
    },
    {
      "cell_type": "markdown",
      "source": [
        "#### 2. Perform an appropriate statistical test."
      ],
      "metadata": {
        "id": "I79__PHVH19G"
      }
    },
    {
      "cell_type": "code",
      "source": [
        "# Perform Statistical Test to obtain P-Value\n",
        "# Filter the movies DataFrame to create two new DataFrames:\n",
        "# One containing only movies produced in the United States, and one containing only movies produced in India\n",
        "us_movie_df = movies_df[movies_df.country == 'United States']\n",
        "india_movie_df = movies_df[movies_df.country == 'India']\n",
        "\n",
        "# Perform a two-sample t-test between the release years of the two groups of movies\n",
        "t, p = ttest_ind(us_movie_df['release_year'], india_movie_df['release_year'], equal_var=False)\n",
        "\n",
        "# Set the significance level to 0.05\n",
        "alpha = 0.05\n",
        "\n",
        "# Check if the calculated p-value is less than the significance level\n",
        "if p < alpha:\n",
        "  # If the p-value is less than the significance level, reject the null hypothesis\n",
        "  print(\"We reject the null hypothesis.\")\n",
        "else:\n",
        "  # If the p-value is greater than or equal to the significance level, fail to reject the null hypothesis\n",
        "  print(\"We fail to reject the null hypothesis.\")\n",
        "\n",
        "# deleting the temporary dataframe we obtained to calculate the alpha value\n",
        "del us_movie_df\n",
        "del india_movie_df"
      ],
      "metadata": {
        "id": "oZrfquKtyian"
      },
      "execution_count": null,
      "outputs": []
    },
    {
      "cell_type": "markdown",
      "source": [
        "##### Which statistical test have you done to obtain P-Value?"
      ],
      "metadata": {
        "id": "Ou-I18pAyIpj"
      }
    },
    {
      "cell_type": "markdown",
      "source": [
        "To compare the number of movies available on Netflix in the United States and India, I conducted a two-sample t-test, also known as an independent samples t-test or unpaired t-test. I utilized the ttest_ind function from the scipy.stats module to carry out the test, which is suitable for analyzing the means of two independent samples. By applying this test, I was able to calculate the p-value and determine if there is a significant difference in the number of movies between the two countries."
      ],
      "metadata": {
        "id": "s2U0kk00ygSB"
      }
    },
    {
      "cell_type": "markdown",
      "source": [
        "##### Why did you choose the specific statistical test?"
      ],
      "metadata": {
        "id": "fF3858GYyt-u"
      }
    },
    {
      "cell_type": "markdown",
      "source": [
        "I selected the two-sample t-test for this analysis as it is suitable for comparing the means of two independent samples. In this case, we have two separate sets of movie data from Netflix for the United States and India, and we aim to determine if there is a significant difference in the average number of movies between these two countries.\n"
      ],
      "metadata": {
        "id": "HO4K0gP5y3B4"
      }
    },
    {
      "cell_type": "markdown",
      "source": [
        "### Hypothetical Statement - 2"
      ],
      "metadata": {
        "id": "4_0_7-oCpUZd"
      }
    },
    {
      "cell_type": "markdown",
      "source": [
        "#### 1. State Your research hypothesis as a null hypothesis and alternate hypothesis."
      ],
      "metadata": {
        "id": "hwyV_J3ipUZe"
      }
    },
    {
      "cell_type": "markdown",
      "source": [
        "According to the countplot, it appears that Netflix adds the highest number of movies and TV shows during the period between October and January. This period seems to be the busiest time of year for Netflix in terms of adding new content to its platform.\n",
        "\n",
        "    * Null hypothesis H0: There is no significant difference in the number of movies and TV shows added by Netflix across different months.\n",
        "\n",
        "    * Alternate hypothesis Ha: There is a significant difference in the number of movies and TV shows added by Netflix across different months."
      ],
      "metadata": {
        "id": "FnpLGJ-4pUZe"
      }
    },
    {
      "cell_type": "markdown",
      "source": [
        "#### 2. Perform an appropriate statistical test."
      ],
      "metadata": {
        "id": "3yB-zSqbpUZe"
      }
    },
    {
      "cell_type": "code",
      "source": [
        "# Perform Statistical Test to obtain P-Value\n",
        "\n",
        "# Convert the date_added column of the DataFrame to a datetime format\n",
        "df[\"date_added\"] = pd.to_datetime(df[\"date_added\"])\n",
        "\n",
        "# Extract the month name from the date_added column and create a new column\n",
        "df[\"month_added\"] = df[\"date_added\"].dt.month_name()\n",
        "\n",
        "# Create a contingency table of the type and month_added columns\n",
        "contingency_table = pd.crosstab(df[\"type\"], df[\"month_added\"])\n",
        "\n",
        "# Perform a chi-square test on the contingency table\n",
        "from scipy.stats import chi2_contingency\n",
        "chi2_statistic, p_value, dof, expected = chi2_contingency(contingency_table)\n",
        "\n",
        "# Rounding to 2\n",
        "chi2_statistic = round(chi2_statistic, 2)\n",
        "p_value = round(p_value, 2)\n",
        "\n",
        "# Print the results\n",
        "print(f\"Chi-square statistic: {chi2_statistic}\")\n",
        "print(f\"P-value: {p_value}\")"
      ],
      "metadata": {
        "id": "sWxdNTXNpUZe"
      },
      "execution_count": null,
      "outputs": []
    },
    {
      "cell_type": "markdown",
      "source": [
        "##### Which statistical test have you done to obtain P-Value?"
      ],
      "metadata": {
        "id": "dEUvejAfpUZe"
      }
    },
    {
      "cell_type": "markdown",
      "source": [
        "To obtain the p-value, I performed a chi-square test for independence. The chi-square test is used to determine if there is a significant association between two categorical variables. In this case, I wanted to test if there was a significant association between the time of year and the number of new movies and TV shows added to Netflix."
      ],
      "metadata": {
        "id": "oLDrPz7HpUZf"
      }
    },
    {
      "cell_type": "markdown",
      "source": [
        "##### Why did you choose the specific statistical test?"
      ],
      "metadata": {
        "id": "Fd15vwWVpUZf"
      }
    },
    {
      "cell_type": "markdown",
      "source": [
        "I choose the chi-square test for independence as I was interested in testing for a potential association between two categorical variables.\n",
        "\n"
      ],
      "metadata": {
        "id": "4xOGYyiBpUZf"
      }
    },
    {
      "cell_type": "markdown",
      "source": [
        "### Hypothetical Statement - 3"
      ],
      "metadata": {
        "id": "bn_IUdTipZyH"
      }
    },
    {
      "cell_type": "markdown",
      "source": [
        "#### 1. State Your research hypothesis as a null hypothesis and alternate hypothesis."
      ],
      "metadata": {
        "id": "49K5P_iCpZyH"
      }
    },
    {
      "cell_type": "markdown",
      "source": [
        "The number of movies on Netflix is greater than the number of TV shows, with 5372 movies and 2398 TV shows currently available on the platform.\n",
        "\n",
        "    * Null hypothesis H0: The number of movies and TV shows on Netflix is not significantly different.\n",
        "\n",
        "    * Alternate hypothesis Ha: The number of movies on Netflix is significantly greater than the number of TV shows.\n",
        "\n"
      ],
      "metadata": {
        "id": "7gWI5rT9pZyH"
      }
    },
    {
      "cell_type": "markdown",
      "source": [
        "#### 2. Perform an appropriate statistical test."
      ],
      "metadata": {
        "id": "Nff-vKELpZyI"
      }
    },
    {
      "cell_type": "code",
      "source": [
        "# Perform Statistical Test to obtain P-Value\n",
        "\n",
        "# Count the number of movies and TV shows in the DataFrame\n",
        "n_movies = df[df['type'] == 'Movie'].count()['type']\n",
        "n_tv_shows = df[df['type'] == 'TV Show'].count()['type']\n",
        "\n",
        "# Print the number of movies and TV shows\n",
        "# print('Number of movies:', n_movies)\n",
        "# print('Number of TV shows:', n_tv_shows)\n",
        "\n",
        "# Set the counts and sample sizes for the z-test\n",
        "counts = [n_movies, n_tv_shows]  # Number of movies and TV shows\n",
        "nobs = [len(df), len(df)]  # Total number of observations in the DataFrame\n",
        "\n",
        "# Print the counts and sample sizes\n",
        "print('After setting counts and sample sizes for the z-test:')\n",
        "print('Counts:', counts)\n",
        "print('Sample sizes:', nobs)\n",
        "\n",
        "# Perform a z-test assuming equal proportions\n",
        "z_stat, p_val = proportions_ztest(counts, nobs, value=0, alternative='larger')\n",
        "\n",
        "# Print the results of the z-test\n",
        "print('After performing the z-test assuming equal proportions:')\n",
        "print('z-statistic:', z_stat)\n",
        "print('p-value:', p_val)\n",
        "\n",
        "# deleting the temporary dataframe we obtained\n",
        "del n_movies\n",
        "del n_tv_shows"
      ],
      "metadata": {
        "id": "s6AnJQjtpZyI"
      },
      "execution_count": null,
      "outputs": []
    },
    {
      "cell_type": "markdown",
      "source": [
        "##### Which statistical test have you done to obtain P-Value?"
      ],
      "metadata": {
        "id": "kLW572S8pZyI"
      }
    },
    {
      "cell_type": "markdown",
      "source": [
        "I used a two-sample z-test for proportions to obtain the p-value."
      ],
      "metadata": {
        "id": "ytWJ8v15pZyI"
      }
    },
    {
      "cell_type": "markdown",
      "source": [
        "##### Why did you choose the specific statistical test?"
      ],
      "metadata": {
        "id": "dWbDXHzopZyI"
      }
    },
    {
      "cell_type": "markdown",
      "source": [
        "I chose the two-sample z-test for proportions to compare the number of movies and TV shows on Netflix because the data consists of two categorical variables"
      ],
      "metadata": {
        "id": "M99G98V6pZyI"
      }
    },
    {
      "cell_type": "markdown",
      "source": [
        "## ***6. Feature Engineering & Data Pre-processing***"
      ],
      "metadata": {
        "id": "yLjJCtPM0KBk"
      }
    },
    {
      "cell_type": "markdown",
      "source": [
        "### 1. Handling Missing Values"
      ],
      "metadata": {
        "id": "xiyOF9F70UgQ"
      }
    },
    {
      "cell_type": "code",
      "source": [
        "# Handling Missing Values & Missing Value Imputation\n",
        "df.isna().sum()"
      ],
      "metadata": {
        "id": "iRsAHk1K0fpS"
      },
      "execution_count": null,
      "outputs": []
    },
    {
      "cell_type": "markdown",
      "source": [
        "#### What all missing value imputation techniques have you used and why did you use those techniques?"
      ],
      "metadata": {
        "id": "7wuGOrhz0itI"
      }
    },
    {
      "cell_type": "markdown",
      "source": [
        "We have handled the missing values in data wrangling step"
      ],
      "metadata": {
        "id": "1ixusLtI0pqI"
      }
    },
    {
      "cell_type": "markdown",
      "source": [
        "### 2. Handling Outliers"
      ],
      "metadata": {
        "id": "id1riN9m0vUs"
      }
    },
    {
      "cell_type": "code",
      "source": [
        "# Handling Outliers & Outlier treatments"
      ],
      "metadata": {
        "id": "M6w2CzZf04JK"
      },
      "execution_count": null,
      "outputs": []
    },
    {
      "cell_type": "markdown",
      "source": [
        "**most of the columns are categorical, no outliers observed**"
      ],
      "metadata": {
        "id": "KkaffoxNaw7F"
      }
    },
    {
      "cell_type": "markdown",
      "source": [
        "##### What all outlier treatment techniques have you used and why did you use those techniques?"
      ],
      "metadata": {
        "id": "578E2V7j08f6"
      }
    },
    {
      "cell_type": "markdown",
      "source": [
        "most of the columns are categorical, no outliers observed"
      ],
      "metadata": {
        "id": "uGZz5OrT1HH-"
      }
    },
    {
      "cell_type": "markdown",
      "source": [
        "### 3. Categorical Encoding"
      ],
      "metadata": {
        "id": "89xtkJwZ18nB"
      }
    },
    {
      "cell_type": "code",
      "source": [
        "# Encode your categorical columns"
      ],
      "metadata": {
        "id": "21JmIYMG2hEo"
      },
      "execution_count": null,
      "outputs": []
    },
    {
      "cell_type": "markdown",
      "source": [
        "**Most of the columns are categorical, no outliers observed**"
      ],
      "metadata": {
        "id": "JsgXWwCFbPqi"
      }
    },
    {
      "cell_type": "markdown",
      "source": [
        "#### What all categorical encoding techniques have you used & why did you use those techniques?"
      ],
      "metadata": {
        "id": "67NQN5KX2AMe"
      }
    },
    {
      "cell_type": "markdown",
      "source": [
        "Answer Here."
      ],
      "metadata": {
        "id": "UDaue5h32n_G"
      }
    },
    {
      "cell_type": "markdown",
      "source": [
        "### 4. Textual Data Preprocessing\n",
        "(It's mandatory for textual dataset i.e., NLP, Sentiment Analysis, Text Clustering etc.)"
      ],
      "metadata": {
        "id": "Iwf50b-R2tYG"
      }
    },
    {
      "cell_type": "markdown",
      "source": [
        "#### 1. Expand Contraction"
      ],
      "metadata": {
        "id": "GMQiZwjn3iu7"
      }
    },
    {
      "cell_type": "code",
      "source": [
        "# Expand Contraction\n",
        "\n",
        "# Create a new column called 'tags' in the DataFrame 'df'\n",
        "# The purpose of this column is to store text data that will be used for model building\n",
        "# The text data consists of the 'description', 'rating', 'country', 'listed_in', and 'cast' columns\n",
        "df['tags'] = df['description'] + ' ' + df['rating'] + ' ' + df['country'] + ' ' + df['listed_in'] + ' ' + df['cast']"
      ],
      "metadata": {
        "id": "PTouz10C3oNN"
      },
      "execution_count": null,
      "outputs": []
    },
    {
      "cell_type": "code",
      "source": [
        "# cross checking our result for the function created\n",
        "print(df['tags'][0])"
      ],
      "metadata": {
        "id": "HQ5wCY24bp9j"
      },
      "execution_count": null,
      "outputs": []
    },
    {
      "cell_type": "markdown",
      "source": [
        "#### 2. Lower Casing"
      ],
      "metadata": {
        "id": "WVIkgGqN3qsr"
      }
    },
    {
      "cell_type": "code",
      "source": [
        "# Lower Casing\n",
        "def to_lower(x):\n",
        "  return x.lower()\n",
        "\n",
        "# Apply the to_lower() function to the 'tags' column of the DataFrame\n",
        "df['tags'] = df['tags'].apply(to_lower)\n",
        "\n",
        "# cross checking our result for the function created\n",
        "print(df['tags'][0])\n"
      ],
      "metadata": {
        "id": "88JnJ1jN3w7j"
      },
      "execution_count": null,
      "outputs": []
    },
    {
      "cell_type": "markdown",
      "source": [
        "#### 3. Removing Punctuations"
      ],
      "metadata": {
        "id": "XkPnILGE3zoT"
      }
    },
    {
      "cell_type": "code",
      "source": [
        "# Remove Punctuations\n",
        "# Define a function to remove punctuation from text\n",
        "def remove_punctuation(text):\n",
        "    '''a function for removing punctuation'''\n",
        "    # Replace each punctuation mark with no space, effectively deleting it from the text\n",
        "    translator = str.maketrans('', '', string.punctuation)\n",
        "    text_without_punct = text.translate(translator)\n",
        "\n",
        "    # Return the text with punctuation removed\n",
        "    return text_without_punct\n",
        "\n",
        "# Apply the remove_punctuation function to the 'tags' column of the DataFrame\n",
        "df['tags'] = df['tags'].apply(remove_punctuation)\n",
        "\n",
        "# Print the first 'tags' value to cross-check that the function worked as expected\n",
        "print(df['tags'][0])"
      ],
      "metadata": {
        "id": "vqbBqNaA33c0"
      },
      "execution_count": null,
      "outputs": []
    },
    {
      "cell_type": "markdown",
      "source": [
        "#### 4. Removing URLs & Removing words and digits contain digits."
      ],
      "metadata": {
        "id": "Hlsf0x5436Go"
      }
    },
    {
      "cell_type": "code",
      "source": [
        "# Remove URLs & Remove words and digits contain digits\n",
        "# our tags column doesnot have links so removing numbers\n",
        "df['tags'] = df['tags'].str.replace(r'\\w*\\d\\w*', '', regex=True)\n",
        "# remove words and digits containing digits\n",
        "\n",
        "# cross checking our result for the function created\n",
        "print(df['tags'][0])"
      ],
      "metadata": {
        "id": "2sxKgKxu4Ip3"
      },
      "execution_count": null,
      "outputs": []
    },
    {
      "cell_type": "markdown",
      "source": [
        "#### 5. Removing Stopwords & Removing White spaces"
      ],
      "metadata": {
        "id": "mT9DMSJo4nBL"
      }
    },
    {
      "cell_type": "code",
      "source": [
        "# Remove Stopwords\n",
        "# Remove Stopwords\n",
        "# since the language is english, we need to import english stop words\n",
        "stop_words = stopwords.words('english')\n",
        "\n",
        "def remove_stop_words(x):\n",
        "  ''' function to remove stop words'''\n",
        "  x = x.split()\n",
        "  res = ''\n",
        "  for word in x:\n",
        "    if word not in stop_words:\n",
        "      res = res + ' ' + word\n",
        "  return res\n",
        "\n",
        "# cross checking our result for the function created\n",
        "print('Before')\n",
        "print(df['tags'][0])\n",
        "# applying the created function\n",
        "df['tags'] = df['tags'].apply(remove_stop_words)\n",
        "# cross checking our result for the function created\n",
        "print('after')\n",
        "print(df['tags'][0])"
      ],
      "metadata": {
        "id": "T2LSJh154s8W"
      },
      "execution_count": null,
      "outputs": []
    },
    {
      "cell_type": "code",
      "source": [
        "# Remove White spaces\n",
        "# remove white spaces in the 'tags'\n",
        "df['tags'] = df['tags'].str.strip()\n",
        "# cross checking our result for the function created\n",
        "\n",
        "print(df['tags'][0])"
      ],
      "metadata": {
        "id": "EgLJGffy4vm0"
      },
      "execution_count": null,
      "outputs": []
    },
    {
      "cell_type": "markdown",
      "source": [
        "#### 6. Rephrase Text"
      ],
      "metadata": {
        "id": "c49ITxTc407N"
      }
    },
    {
      "cell_type": "code",
      "source": [
        "# # Rephrase Text\n",
        "#ot performing rephrasing of text\n",
        "# Rephrasing can be achived by the following code\n",
        "\n",
        "# def rephrase_tags(x):\n",
        "#     return x.replace('interesting', 'fascinating')\n",
        "# df['tags'] = df['tags'].apply(rephrase_tags)"
      ],
      "metadata": {
        "id": "foqY80Qu48N2"
      },
      "execution_count": null,
      "outputs": []
    },
    {
      "cell_type": "markdown",
      "source": [
        "#### 7. Tokenization"
      ],
      "metadata": {
        "id": "OeJFEK0N496M"
      }
    },
    {
      "cell_type": "markdown",
      "source": [
        "Tokenization is not required."
      ],
      "metadata": {
        "id": "PCAi-At7cXoI"
      }
    },
    {
      "cell_type": "code",
      "source": [
        "# Tokenization"
      ],
      "metadata": {
        "id": "ijx1rUOS5CUU"
      },
      "execution_count": null,
      "outputs": []
    },
    {
      "cell_type": "markdown",
      "source": [
        "#### 8. Text Normalization"
      ],
      "metadata": {
        "id": "9ExmJH0g5HBk"
      }
    },
    {
      "cell_type": "code",
      "source": [
        "# Normalizing Text (i.e., Stemming, Lemmatization etc.)\n",
        "stemmer = SnowballStemmer(\"english\")\n",
        "\n",
        "def stemming(text):\n",
        "    '''a function which stems each word in the given text'''\n",
        "    text = [stemmer.stem(word) for word in text.split()]\n",
        "    return \" \".join(text)\n",
        "\n",
        "df['tags'] = df['tags'].apply(stemming)\n",
        "\n",
        "\n",
        "# Vectorizing Text\n",
        "# create the object of tfid vectorizer\n",
        "tfidf = TfidfVectorizer(stop_words='english', lowercase=False, max_features = 9000)\n",
        "# setting max features = 9000 to prevent system from crashing\n",
        "\n",
        "# fit the vectorizer using the text data\n",
        "tfidf.fit(df['tags'])\n",
        "\n",
        "# collect the vocabulary items used in the vectorizer\n",
        "dictionary = tfidf.vocabulary_.items()"
      ],
      "metadata": {
        "id": "AIJ1a-Zc5PY8"
      },
      "execution_count": null,
      "outputs": []
    },
    {
      "cell_type": "code",
      "source": [
        "# convert vector into array form for clustering\n",
        "vector = tfidf.transform(df['tags']).toarray()\n",
        "\n",
        "# summarize encoded vector\n",
        "print(vector)\n",
        "print(f'shape of vector : {vector.shape}')\n",
        "print(f'datatype : {type(vector)}')"
      ],
      "metadata": {
        "id": "l-E9o61ucsRj"
      },
      "execution_count": null,
      "outputs": []
    },
    {
      "cell_type": "markdown",
      "source": [
        "##### Which text normalization technique have you used and why?"
      ],
      "metadata": {
        "id": "cJNqERVU536h"
      }
    },
    {
      "cell_type": "markdown",
      "source": [
        "Word/Text vectorization is useful because most machine learning algorithms cannot work with raw text data directly. Instead, they require numerical inputs that can be processed mathematically. Word/Text vectorization solves this problem by transforming the text data into numerical vectors that can be understood by machine learning algorithms."
      ],
      "metadata": {
        "id": "Z9jKVxE06BC1"
      }
    },
    {
      "cell_type": "markdown",
      "source": [
        "#### 9. Part of speech tagging"
      ],
      "metadata": {
        "id": "k5UmGsbsOxih"
      }
    },
    {
      "cell_type": "markdown",
      "source": [
        "**Part of Speech Tagging is not required.**"
      ],
      "metadata": {
        "id": "AQGBPYOPc0ip"
      }
    },
    {
      "cell_type": "code",
      "source": [
        "# POS Taging"
      ],
      "metadata": {
        "id": "btT3ZJBAO6Ik"
      },
      "execution_count": null,
      "outputs": []
    },
    {
      "cell_type": "markdown",
      "source": [
        "#### 10. Text Vectorization"
      ],
      "metadata": {
        "id": "T0VqWOYE6DLQ"
      }
    },
    {
      "cell_type": "markdown",
      "source": [
        "**Text Vectorization is not required.**"
      ],
      "metadata": {
        "id": "GrgfwMLYc9Pq"
      }
    },
    {
      "cell_type": "code",
      "source": [
        "# Vectorizing Text"
      ],
      "metadata": {
        "id": "yBRtdhth6JDE"
      },
      "execution_count": null,
      "outputs": []
    },
    {
      "cell_type": "markdown",
      "source": [
        "##### Which text vectorization technique have you used and why?"
      ],
      "metadata": {
        "id": "qBMux9mC6MCf"
      }
    },
    {
      "cell_type": "markdown",
      "source": [
        "Answer Here."
      ],
      "metadata": {
        "id": "su2EnbCh6UKQ"
      }
    },
    {
      "cell_type": "markdown",
      "source": [
        "### 4. Feature Manipulation & Selection"
      ],
      "metadata": {
        "id": "-oLEiFgy-5Pf"
      }
    },
    {
      "cell_type": "markdown",
      "source": [
        "#### 1. Feature Manipulation"
      ],
      "metadata": {
        "id": "C74aWNz2AliB"
      }
    },
    {
      "cell_type": "markdown",
      "source": [
        "** Feature Manupulation is Not Required**"
      ],
      "metadata": {
        "id": "IaoZpt-3dQ97"
      }
    },
    {
      "cell_type": "code",
      "source": [
        "# Manipulate Features to minimize feature correlation and create new features"
      ],
      "metadata": {
        "id": "h1qC4yhBApWC"
      },
      "execution_count": null,
      "outputs": []
    },
    {
      "cell_type": "markdown",
      "source": [
        "#### 2. Feature Selection"
      ],
      "metadata": {
        "id": "2DejudWSA-a0"
      }
    },
    {
      "cell_type": "code",
      "source": [
        "# Select your features wisely to avoid overfitting"
      ],
      "metadata": {
        "id": "YLhe8UmaBCEE"
      },
      "execution_count": null,
      "outputs": []
    },
    {
      "cell_type": "markdown",
      "source": [
        "##### What all feature selection methods have you used  and why?"
      ],
      "metadata": {
        "id": "pEMng2IbBLp7"
      }
    },
    {
      "cell_type": "markdown",
      "source": [
        "Answer Here."
      ],
      "metadata": {
        "id": "rb2Lh6Z8BgGs"
      }
    },
    {
      "cell_type": "markdown",
      "source": [
        "##### Which all features you found important and why?"
      ],
      "metadata": {
        "id": "rAdphbQ9Bhjc"
      }
    },
    {
      "cell_type": "markdown",
      "source": [
        "Answer Here."
      ],
      "metadata": {
        "id": "fGgaEstsBnaf"
      }
    },
    {
      "cell_type": "markdown",
      "source": [
        "### 5. Data Transformation"
      ],
      "metadata": {
        "id": "TNVZ9zx19K6k"
      }
    },
    {
      "cell_type": "markdown",
      "source": [
        "#### Do you think that your data needs to be transformed? If yes, which transformation have you used. Explain Why?"
      ],
      "metadata": {
        "id": "nqoHp30x9hH9"
      }
    },
    {
      "cell_type": "code",
      "source": [
        "# Transform Your data"
      ],
      "metadata": {
        "id": "I6quWQ1T9rtH"
      },
      "execution_count": null,
      "outputs": []
    },
    {
      "cell_type": "markdown",
      "source": [
        "### 6. Data Scaling"
      ],
      "metadata": {
        "id": "rMDnDkt2B6du"
      }
    },
    {
      "cell_type": "code",
      "source": [
        "# Scaling your data"
      ],
      "metadata": {
        "id": "dL9LWpySC6x_"
      },
      "execution_count": null,
      "outputs": []
    },
    {
      "cell_type": "markdown",
      "source": [
        "##### Which method have you used to scale you data and why?"
      ],
      "metadata": {
        "id": "yiiVWRdJDDil"
      }
    },
    {
      "cell_type": "markdown",
      "source": [
        "### 7. Dimesionality Reduction"
      ],
      "metadata": {
        "id": "1UUpS68QDMuG"
      }
    },
    {
      "cell_type": "markdown",
      "source": [
        "##### Do you think that dimensionality reduction is needed? Explain Why?"
      ],
      "metadata": {
        "id": "kexQrXU-DjzY"
      }
    },
    {
      "cell_type": "markdown",
      "source": [
        "Answer Here."
      ],
      "metadata": {
        "id": "GGRlBsSGDtTQ"
      }
    },
    {
      "cell_type": "code",
      "source": [
        "# DImensionality Reduction (If needed)\n",
        "# using PCA to reduce dimensionality\n",
        "pca = PCA(random_state=32)\n",
        "pca.fit(vector)"
      ],
      "metadata": {
        "id": "kQfvxBBHDvCa"
      },
      "execution_count": null,
      "outputs": []
    },
    {
      "cell_type": "code",
      "source": [
        "plt.plot(np.cumsum(pca.explained_variance_ratio_))\n",
        "plt.title('PCA - cumulative explained variance vs number of components')\n",
        "plt.xlabel('number of components')\n",
        "plt.ylabel('cumulative explained variance')\n",
        "plt.axhline(y= 0.8, color='red', linestyle='--')\n",
        "plt.axvline(x= 2500, color='green', linestyle='--')\n",
        "plt.show()"
      ],
      "metadata": {
        "id": "-mA9eA6ve3W7"
      },
      "execution_count": null,
      "outputs": []
    },
    {
      "cell_type": "markdown",
      "source": [
        "##### Which dimensionality reduction technique have you used and why? (If dimensionality reduction done on dataset.)"
      ],
      "metadata": {
        "id": "T5CmagL3EC8N"
      }
    },
    {
      "cell_type": "markdown",
      "source": [
        "Answer Here."
      ],
      "metadata": {
        "id": "ZKr75IDuEM7t"
      }
    },
    {
      "cell_type": "markdown",
      "source": [
        "### 8. Data Splitting"
      ],
      "metadata": {
        "id": "BhH2vgX9EjGr"
      }
    },
    {
      "cell_type": "code",
      "source": [
        "# Split your data to train and test. Choose Splitting ratio wisely."
      ],
      "metadata": {
        "id": "0CTyd2UwEyNM"
      },
      "execution_count": null,
      "outputs": []
    },
    {
      "cell_type": "markdown",
      "source": [
        "##### What data splitting ratio have you used and why?"
      ],
      "metadata": {
        "id": "qjKvONjwE8ra"
      }
    },
    {
      "cell_type": "markdown",
      "source": [
        "Answer Here."
      ],
      "metadata": {
        "id": "Y2lJ8cobFDb_"
      }
    },
    {
      "cell_type": "markdown",
      "source": [
        "### 9. Handling Imbalanced Dataset"
      ],
      "metadata": {
        "id": "P1XJ9OREExlT"
      }
    },
    {
      "cell_type": "markdown",
      "source": [
        "##### Do you think the dataset is imbalanced? Explain Why."
      ],
      "metadata": {
        "id": "VFOzZv6IFROw"
      }
    },
    {
      "cell_type": "markdown",
      "source": [
        "Answer Here."
      ],
      "metadata": {
        "id": "GeKDIv7pFgcC"
      }
    },
    {
      "cell_type": "code",
      "source": [
        "# Handling Imbalanced Dataset (If needed)"
      ],
      "metadata": {
        "id": "nQsRhhZLFiDs"
      },
      "execution_count": null,
      "outputs": []
    },
    {
      "cell_type": "markdown",
      "source": [
        "##### What technique did you use to handle the imbalance dataset and why? (If needed to be balanced)"
      ],
      "metadata": {
        "id": "TIqpNgepFxVj"
      }
    },
    {
      "cell_type": "markdown",
      "source": [
        "Answer Here."
      ],
      "metadata": {
        "id": "qbet1HwdGDTz"
      }
    },
    {
      "cell_type": "markdown",
      "source": [
        "## ***7. ML Model Implementation***"
      ],
      "metadata": {
        "id": "VfCC591jGiD4"
      }
    },
    {
      "cell_type": "markdown",
      "source": [
        "### silhouette Score(2-12)\n"
      ],
      "metadata": {
        "id": "OB4l2ZhMeS1U"
      }
    },
    {
      "cell_type": "code",
      "source": [
        "silhouette_avg = []\n",
        "# range_n_clusters = [2,3,4,5,6,7,8,9,10]\n",
        "for n_clusters in range(2, 12):\n",
        "    clusterer = KMeans(n_clusters=n_clusters, random_state=42)\n",
        "    preds = clusterer.fit_predict(X)\n",
        "    centers = clusterer.cluster_centers_\n",
        "\n",
        "    score = silhouette_score(X, preds)\n",
        "    silhouette_avg.append(score)\n",
        "    print(\"For n_clusters = {}, silhouette score is {}\".format(n_clusters, score))\n",
        "\n",
        "plt.plot(range(2,12), silhouette_avg)\n",
        "plt.xlabel('Number of clusters')\n",
        "plt.ylabel('Silhouette score')\n",
        "plt.title('Silhouette analysis For Optimal k - KMeans clustering')\n",
        "plt.show()"
      ],
      "metadata": {
        "id": "7ebyywQieS1U"
      },
      "execution_count": null,
      "outputs": []
    },
    {
      "cell_type": "markdown",
      "source": [
        "#### 1. Explain the ML Model used and it's performance using Evaluation metric Score Chart."
      ],
      "metadata": {
        "id": "ArJBuiUVfxKd"
      }
    },
    {
      "cell_type": "code",
      "source": [
        "# Visualizing evaluation Metric Score chart"
      ],
      "metadata": {
        "id": "rqD5ZohzfxKe"
      },
      "execution_count": null,
      "outputs": []
    },
    {
      "cell_type": "markdown",
      "source": [
        "#### 2. Cross- Validation & Hyperparameter Tuning"
      ],
      "metadata": {
        "id": "4qY1EAkEfxKe"
      }
    },
    {
      "cell_type": "code",
      "source": [
        "# ML Model - 1 Implementation with hyperparameter optimization techniques (i.e., GridSearch CV, RandomSearch CV, Bayesian Optimization etc.)\n",
        "\n",
        "# Fit the Algorithm\n",
        "\n",
        "# Predict on the model"
      ],
      "metadata": {
        "id": "Dy61ujd6fxKe"
      },
      "execution_count": null,
      "outputs": []
    },
    {
      "cell_type": "markdown",
      "source": [
        "##### Which hyperparameter optimization technique have you used and why?"
      ],
      "metadata": {
        "id": "PiV4Ypx8fxKe"
      }
    },
    {
      "cell_type": "markdown",
      "source": [
        "Answer Here."
      ],
      "metadata": {
        "id": "negyGRa7fxKf"
      }
    },
    {
      "cell_type": "markdown",
      "source": [
        "##### Have you seen any improvement? Note down the improvement with updates Evaluation metric Score Chart."
      ],
      "metadata": {
        "id": "TfvqoZmBfxKf"
      }
    },
    {
      "cell_type": "markdown",
      "source": [
        "Answer Here."
      ],
      "metadata": {
        "id": "OaLui8CcfxKf"
      }
    },
    {
      "cell_type": "markdown",
      "source": [
        "### ML Model - 2"
      ],
      "metadata": {
        "id": "dJ2tPlVmpsJ0"
      }
    },
    {
      "cell_type": "markdown",
      "source": [
        "#### 1. Explain the ML Model used and it's performance using Evaluation metric Score Chart."
      ],
      "metadata": {
        "id": "JWYfwnehpsJ1"
      }
    },
    {
      "cell_type": "code",
      "source": [
        "# Visualizing evaluation Metric Score chart"
      ],
      "metadata": {
        "id": "yEl-hgQWpsJ1"
      },
      "execution_count": null,
      "outputs": []
    },
    {
      "cell_type": "markdown",
      "source": [
        "#### 2. Cross- Validation & Hyperparameter Tuning"
      ],
      "metadata": {
        "id": "-jK_YjpMpsJ2"
      }
    },
    {
      "cell_type": "code",
      "source": [
        "# ML Model - 1 Implementation with hyperparameter optimization techniques (i.e., GridSearch CV, RandomSearch CV, Bayesian Optimization etc.)\n",
        "\n",
        "# Fit the Algorithm\n",
        "\n",
        "# Predict on the model"
      ],
      "metadata": {
        "id": "Dn0EOfS6psJ2"
      },
      "execution_count": null,
      "outputs": []
    },
    {
      "cell_type": "markdown",
      "source": [
        "##### Which hyperparameter optimization technique have you used and why?"
      ],
      "metadata": {
        "id": "HAih1iBOpsJ2"
      }
    },
    {
      "cell_type": "markdown",
      "source": [
        "Answer Here."
      ],
      "metadata": {
        "id": "9kBgjYcdpsJ2"
      }
    },
    {
      "cell_type": "markdown",
      "source": [
        "##### Have you seen any improvement? Note down the improvement with updates Evaluation metric Score Chart."
      ],
      "metadata": {
        "id": "zVGeBEFhpsJ2"
      }
    },
    {
      "cell_type": "markdown",
      "source": [
        "Answer Here."
      ],
      "metadata": {
        "id": "74yRdG6UpsJ3"
      }
    },
    {
      "cell_type": "markdown",
      "source": [
        "#### 3. Explain each evaluation metric's indication towards business and the business impact pf the ML model used."
      ],
      "metadata": {
        "id": "bmKjuQ-FpsJ3"
      }
    },
    {
      "cell_type": "markdown",
      "source": [
        "Answer Here."
      ],
      "metadata": {
        "id": "BDKtOrBQpsJ3"
      }
    },
    {
      "cell_type": "markdown",
      "source": [
        "### ML Model - 3"
      ],
      "metadata": {
        "id": "Fze-IPXLpx6K"
      }
    },
    {
      "cell_type": "code",
      "source": [
        "# ML Model - 3 Implementation\n",
        "\n",
        "# Fit the Algorithm\n",
        "\n",
        "# Predict on the model"
      ],
      "metadata": {
        "id": "FFrSXAtrpx6M"
      },
      "execution_count": null,
      "outputs": []
    },
    {
      "cell_type": "markdown",
      "source": [
        "#### 1. Explain the ML Model used and it's performance using Evaluation metric Score Chart."
      ],
      "metadata": {
        "id": "7AN1z2sKpx6M"
      }
    },
    {
      "cell_type": "code",
      "source": [
        "# Visualizing evaluation Metric Score chart"
      ],
      "metadata": {
        "id": "xIY4lxxGpx6M"
      },
      "execution_count": null,
      "outputs": []
    },
    {
      "cell_type": "markdown",
      "source": [
        "#### 2. Cross- Validation & Hyperparameter Tuning"
      ],
      "metadata": {
        "id": "9PIHJqyupx6M"
      }
    },
    {
      "cell_type": "code",
      "source": [
        "# ML Model - 3 Implementation with hyperparameter optimization techniques (i.e., GridSearch CV, RandomSearch CV, Bayesian Optimization etc.)\n",
        "\n",
        "# Fit the Algorithm\n",
        "\n",
        "# Predict on the model"
      ],
      "metadata": {
        "id": "eSVXuaSKpx6M"
      },
      "execution_count": null,
      "outputs": []
    },
    {
      "cell_type": "markdown",
      "source": [
        "##### Which hyperparameter optimization technique have you used and why?"
      ],
      "metadata": {
        "id": "_-qAgymDpx6N"
      }
    },
    {
      "cell_type": "markdown",
      "source": [
        "Answer Here."
      ],
      "metadata": {
        "id": "lQMffxkwpx6N"
      }
    },
    {
      "cell_type": "markdown",
      "source": [
        "##### Have you seen any improvement? Note down the improvement with updates Evaluation metric Score Chart."
      ],
      "metadata": {
        "id": "Z-hykwinpx6N"
      }
    },
    {
      "cell_type": "markdown",
      "source": [
        "Answer Here."
      ],
      "metadata": {
        "id": "MzVzZC6opx6N"
      }
    },
    {
      "cell_type": "markdown",
      "source": [
        "### 1. Which Evaluation metrics did you consider for a positive business impact and why?"
      ],
      "metadata": {
        "id": "h_CCil-SKHpo"
      }
    },
    {
      "cell_type": "markdown",
      "source": [
        "Answer Here."
      ],
      "metadata": {
        "id": "jHVz9hHDKFms"
      }
    },
    {
      "cell_type": "markdown",
      "source": [
        "### 2. Which ML model did you choose from the above created models as your final prediction model and why?"
      ],
      "metadata": {
        "id": "cBFFvTBNJzUa"
      }
    },
    {
      "cell_type": "markdown",
      "source": [
        "Answer Here."
      ],
      "metadata": {
        "id": "6ksF5Q1LKTVm"
      }
    },
    {
      "cell_type": "markdown",
      "source": [
        "### 3. Explain the model which you have used and the feature importance using any model explainability tool?"
      ],
      "metadata": {
        "id": "HvGl1hHyA_VK"
      }
    },
    {
      "cell_type": "markdown",
      "source": [
        "Answer Here."
      ],
      "metadata": {
        "id": "YnvVTiIxBL-C"
      }
    },
    {
      "cell_type": "markdown",
      "source": [
        "## ***8.*** ***Future Work (Optional)***"
      ],
      "metadata": {
        "id": "EyNgTHvd2WFk"
      }
    },
    {
      "cell_type": "markdown",
      "source": [
        "Does not support pikle file, the X and recommender df can be exported\n",
        "\n"
      ],
      "metadata": {
        "id": "tH8DGPSHfQrR"
      }
    },
    {
      "cell_type": "markdown",
      "source": [
        "### 1. Save the best performing ml model in a pickle file or joblib file format for deployment process.\n"
      ],
      "metadata": {
        "id": "KH5McJBi2d8v"
      }
    },
    {
      "cell_type": "code",
      "source": [
        "# Save the File\n",
        "# Save the File\n",
        "df_export = dir_path + 'recommender_df.csv'\n",
        "X_export = dir_path + 'X.csv'\n",
        "# Create a DataFrame from the transformed data\n",
        "X_to_export = pd.DataFrame(X)\n",
        "\n",
        "# Save the DataFrame to a CSV file\n",
        "X_to_export.to_csv('X_export', index=False)\n",
        "recommender_df.to_csv('df_export', index=False)"
      ],
      "metadata": {
        "id": "bQIANRl32f4J"
      },
      "execution_count": null,
      "outputs": []
    },
    {
      "cell_type": "markdown",
      "source": [
        "### 2. Again Load the saved model file and try to predict unseen data for a sanity check.\n"
      ],
      "metadata": {
        "id": "iW_Lq9qf2h6X"
      }
    },
    {
      "cell_type": "code",
      "source": [
        "# Load the File and predict unseen data.\n",
        "# the same dataframe can be loaded and recommeder can use the dataframe\n",
        "\n",
        "# Load the transformed data from a CSV file\n",
        "recom_df = pd.read_csv('df_export')\n",
        "X_import = pd.read_csv('X_export')\n",
        "\n",
        "# Convert the DataFrame to a NumPy array\n",
        "X_imported = X_import.values\n"
      ],
      "metadata": {
        "id": "oEXk9ydD2nVC"
      },
      "execution_count": null,
      "outputs": []
    },
    {
      "cell_type": "markdown",
      "source": [
        "### ***Congrats! Your model is successfully created and ready for deployment on a live server for a real user interaction !!!***"
      ],
      "metadata": {
        "id": "-Kee-DAl2viO"
      }
    },
    {
      "cell_type": "markdown",
      "source": [
        "# **Conclusion**"
      ],
      "metadata": {
        "id": "gCX9965dhzqZ"
      }
    },
    {
      "cell_type": "markdown",
      "source": [
        "Our objective was to cluster shows based on their similarities and differences, with the ultimate goal of creating a content-based recommender system that recommends 5 shows to users based on their viewing history.\n",
        "\n",
        "We began our exploration with a dataset consisting of 7787 records and 11 attributes, with a focus on missing value imputation and exploratory data analysis (EDA). The analysis revealed that Netflix has a greater number of movies than TV shows, with a rapidly growing collection of shows from the United States.\n",
        "\n",
        "To cluster the shows, we selected six key attributes: director, cast, country, genre, rating, and description. These attributes were transformed into a 9000-feature TFIDF vectorization, and Principal Component Analysis (PCA) was used to address the curse of dimensionality. We captured more than 80% of the variance by reducing the components to 2500.\n",
        "\n",
        "Next, we used K-Means and Agglomerative clustering algorithms to group the shows. The elbow method and Silhouette score analysis confirmed that the optimal number of clusters was 7 for K-Means. However, Agglomerative clustering suggested 5 clusters, which we visualized with a dendrogram.\n",
        "\n",
        "We continued our efforts by creating a content-based recommender system using the similarity matrix obtained through cosine similarity. This system offers personalized recommendations based on the type of show the user has watched and provides the user with 5 top-notch suggestions to explore."
      ],
      "metadata": {
        "id": "Fjb1IsQkh3yE"
      }
    },
    {
      "cell_type": "markdown",
      "source": [
        "### ***Hurrah! You have successfully completed your Machine Learning Capstone Project !!!***"
      ],
      "metadata": {
        "id": "gIfDvo9L0UH2"
      }
    }
  ]
}